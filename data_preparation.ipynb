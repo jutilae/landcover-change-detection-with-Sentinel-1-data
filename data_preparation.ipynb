{
 "cells": [
  {
   "cell_type": "markdown",
   "id": "d7b82a20",
   "metadata": {},
   "source": [
    "# Raster and training data preparation is CSC's Puhti supercomputer"
   ]
  },
  {
   "cell_type": "markdown",
   "id": "8dd03001-71bd-4bd0-8530-38c13ae3b57a",
   "metadata": {},
   "source": [
    "You can get acces to CSC's services from https://research.csc.fi/"
   ]
  },
  {
   "cell_type": "markdown",
   "id": "d0005ec1-636b-48e1-8ba0-610a8efd9b82",
   "metadata": {},
   "source": [
    "### Import neccessary libraries"
   ]
  },
  {
   "cell_type": "code",
   "execution_count": 1,
   "id": "b490e5ac",
   "metadata": {},
   "outputs": [],
   "source": [
    "import csv\n",
    "import glob\n",
    "import logging\n",
    "import os\n",
    "from tempfile import TemporaryDirectory\n",
    "import glob\n",
    "\n",
    "from osgeo import gdal\n",
    "import joblib\n",
    "import numpy as np\n",
    "from osgeo import osr, ogr\n",
    "from scipy import sparse as sp\n",
    "#from sklearn import ensemble as ens\n",
    "#from sklearn.model_selection import cross_val_score\n",
    "import rasterio as rio\n",
    "from sklearn.decomposition import PCA"
   ]
  },
  {
   "cell_type": "markdown",
   "id": "3957b38e-9232-43fe-ac53-e72cf1eeafd2",
   "metadata": {},
   "source": [
    "### Helper functions:"
   ]
  },
  {
   "cell_type": "code",
   "execution_count": 2,
   "id": "626a5947",
   "metadata": {},
   "outputs": [],
   "source": [
    "def list_rasters(year,statistic):\n",
    "    \" Utility to create file lists of sentinel-1 rasters in Puhti from 01.05 to 30.9 with a given year and statistic\"\n",
    "    # Use glob.glob to list rasters that match the search pattern\n",
    "    VH_rasters = glob.glob(\"/appl/data/geo/sentinel/s1/*_grd_{}0[5-9]*_{}_{}*.tif\".format(year,statistic, 'VH'))\n",
    "    # Sort the raster list by acquisition date\n",
    "    VH_rasters = sorted(VH_rasters)\n",
    "    VV_rasters = glob.glob(\"/appl/data/geo/sentinel/s1/*_grd_{}0[5-9]*_{}_{}*.tif\".format(year,statistic, 'VV'))\n",
    "    VV_rasters = sorted(VV_rasters)\n",
    "    return VH_rasters, VV_rasters"
   ]
  },
  {
   "cell_type": "code",
   "execution_count": 3,
   "id": "e48a76ea",
   "metadata": {},
   "outputs": [],
   "source": [
    "def clip_raster(input_image,year,polarization,statistic,bounds=[248000.000, 6750000.000, 488000.000, 6606000.000]):\n",
    "    \" Utility that clips the  given national wide raster with the bounding box of the Uusimaa region\"\n",
    "    print(\"processing image {}\".format(input_image))\n",
    "    \n",
    "\n",
    "    ras_path = os.path.join('/scratch/project_2004990/jutilaee/mtk_kehitys/uusimaa/{}/{}/{}'.format(year,polarization,statistic), \n",
    "                            'UM_{}'.format(os.path.basename(input_image)))\n",
    "    # Set clipping options\n",
    "    ras_params = gdal.TranslateOptions(\n",
    "            noData=0,\n",
    "            xRes=20,\n",
    "            yRes=20,\n",
    "            projWin = bounds\n",
    "        )\n",
    "    \n",
    "    if not os.path.exists(ras_path):\n",
    "        # Perform the clipping with gdal translate\n",
    "        gdal.Translate(ras_path, input_image, options=ras_params)\n",
    "    else:\n",
    "        print('File already exists')\n",
    "    return ras_path\n",
    "    "
   ]
  },
  {
   "cell_type": "code",
   "execution_count": 4,
   "id": "6a886f8f",
   "metadata": {},
   "outputs": [],
   "source": [
    "def loop_rasters(rasters,year,polarization,statistic):\n",
    "    \"Utility that feeds the given raster list to the clipping function\"\n",
    "    out_rasters = []\n",
    "    for raster in rasters:\n",
    "        out_raster = clip_raster(raster,year,polarization,statistic)\n",
    "        out_rasters.append(out_raster)\n",
    "    return out_rasters"
   ]
  },
  {
   "cell_type": "code",
   "execution_count": 5,
   "id": "d055d5fe",
   "metadata": {},
   "outputs": [],
   "source": [
    "def get_rasters():\n",
    "    \" Utility that first list the nation wide raster, calls the functions above to clip the rasters and returns an array of the clipped rasters\"\n",
    "    mean20_vh, mean20_vv = list_rasters(2020,'mean')\n",
    "    max20_vh, max20_vv = list_rasters(2020,'max')\n",
    "    mean21_vh, mean21_vv = list_rasters(2021,'mean')\n",
    "    max21_vh, max21_vv = list_rasters(2021,'max')\n",
    "    \n",
    "    #print(mean20_vv)\n",
    "    \n",
    "    um_20_mean_vh = loop_rasters(mean20_vh,2020,'VH','mean')\n",
    "    um_20_mean_vv = loop_rasters(mean20_vv,2020,'VV','mean')\n",
    "    um_21_mean_vh = loop_rasters(mean21_vh,2021,'VH','mean')\n",
    "    um_21_mean_vv = loop_rasters(mean21_vv,2021,'VV','mean')\n",
    "    \n",
    "    um_20_max_vh = loop_rasters(max20_vh,2020,'VH','max')\n",
    "    um_20_max_vv = loop_rasters(max20_vv,2020,'VV','max')\n",
    "    um_21_max_vh = loop_rasters(max21_vh,2021,'VH','max')\n",
    "    um_21_max_vv = loop_rasters(max21_vv,2021,'VV','max')\n",
    "    \n",
    "    return [um_20_mean_vh,um_20_mean_vv,um_21_mean_vh,um_21_mean_vv,um_20_max_vh,um_20_max_vv,um_21_max_vh,um_21_max_vv]"
   ]
  },
  {
   "cell_type": "code",
   "execution_count": 6,
   "id": "5a9f62e4",
   "metadata": {},
   "outputs": [
    {
     "name": "stdout",
     "output_type": "stream",
     "text": [
      "processing image /appl/data/geo/sentinel/s1/s1m_grd_20200501-20200511_mean_VH_R20m.tif\n",
      "File already exists\n",
      "processing image /appl/data/geo/sentinel/s1/s1m_grd_20200511-20200521_mean_VH_R20m.tif\n",
      "File already exists\n",
      "processing image /appl/data/geo/sentinel/s1/s1m_grd_20200521-20200531_mean_VH_R20m.tif\n",
      "File already exists\n",
      "processing image /appl/data/geo/sentinel/s1/s1m_grd_20200601-20200611_mean_VH_R20m.tif\n",
      "File already exists\n",
      "processing image /appl/data/geo/sentinel/s1/s1m_grd_20200611-20200621_mean_VH_R20m.tif\n",
      "File already exists\n",
      "processing image /appl/data/geo/sentinel/s1/s1m_grd_20200621-20200701_mean_VH_R20m.tif\n",
      "File already exists\n",
      "processing image /appl/data/geo/sentinel/s1/s1m_grd_20200701-20200711_mean_VH_R20m.tif\n",
      "File already exists\n",
      "processing image /appl/data/geo/sentinel/s1/s1m_grd_20200721-20200731_mean_VH_R20m.tif\n",
      "File already exists\n",
      "processing image /appl/data/geo/sentinel/s1/s1m_grd_20200801-20200811_mean_VH_R20m.tif\n",
      "File already exists\n",
      "processing image /appl/data/geo/sentinel/s1/s1m_grd_20200811-20200821_mean_VH_R20m.tif\n",
      "File already exists\n",
      "processing image /appl/data/geo/sentinel/s1/s1m_grd_20200821-20200831_mean_VH_R20m.tif\n",
      "File already exists\n",
      "processing image /appl/data/geo/sentinel/s1/s1m_grd_20200901-20200911_mean_VH_R20m.tif\n",
      "File already exists\n",
      "processing image /appl/data/geo/sentinel/s1/s1m_grd_20200921-20201001_mean_VH_R20m.tif\n",
      "File already exists\n",
      "processing image /appl/data/geo/sentinel/s1/s1m_grd_20200501-20200511_mean_VV_R20m.tif\n",
      "File already exists\n",
      "processing image /appl/data/geo/sentinel/s1/s1m_grd_20200511-20200521_mean_VV_R20m.tif\n",
      "File already exists\n",
      "processing image /appl/data/geo/sentinel/s1/s1m_grd_20200521-20200531_mean_VV_R20m.tif\n",
      "File already exists\n",
      "processing image /appl/data/geo/sentinel/s1/s1m_grd_20200601-20200611_mean_VV_R20m.tif\n",
      "File already exists\n",
      "processing image /appl/data/geo/sentinel/s1/s1m_grd_20200611-20200621_mean_VV_R20m.tif\n",
      "File already exists\n",
      "processing image /appl/data/geo/sentinel/s1/s1m_grd_20200621-20200701_mean_VV_R20m.tif\n",
      "File already exists\n",
      "processing image /appl/data/geo/sentinel/s1/s1m_grd_20200701-20200711_mean_VV_R20m.tif\n",
      "File already exists\n",
      "processing image /appl/data/geo/sentinel/s1/s1m_grd_20200721-20200731_mean_VV_R20m.tif\n",
      "File already exists\n",
      "processing image /appl/data/geo/sentinel/s1/s1m_grd_20200801-20200811_mean_VV_R20m.tif\n",
      "File already exists\n",
      "processing image /appl/data/geo/sentinel/s1/s1m_grd_20200811-20200821_mean_VV_R20m.tif\n",
      "File already exists\n",
      "processing image /appl/data/geo/sentinel/s1/s1m_grd_20200821-20200831_mean_VV_R20m.tif\n",
      "File already exists\n",
      "processing image /appl/data/geo/sentinel/s1/s1m_grd_20200901-20200911_mean_VV_R20m.tif\n",
      "File already exists\n",
      "processing image /appl/data/geo/sentinel/s1/s1m_grd_20200921-20201001_mean_VV_R20m.tif\n",
      "File already exists\n",
      "processing image /appl/data/geo/sentinel/s1/s1m_grd_20210501-20210511_mean_VH_R20m.tif\n",
      "File already exists\n",
      "processing image /appl/data/geo/sentinel/s1/s1m_grd_20210511-20210521_mean_VH_R20m.tif\n",
      "File already exists\n",
      "processing image /appl/data/geo/sentinel/s1/s1m_grd_20210521-20210531_mean_VH_R20m.tif\n",
      "File already exists\n",
      "processing image /appl/data/geo/sentinel/s1/s1m_grd_20210601-20210611_mean_VH_R20m.tif\n",
      "File already exists\n",
      "processing image /appl/data/geo/sentinel/s1/s1m_grd_20210611-20210621_mean_VH_R20m.tif\n",
      "File already exists\n",
      "processing image /appl/data/geo/sentinel/s1/s1m_grd_20210621-20210701_mean_VH_R20m.tif\n",
      "File already exists\n",
      "processing image /appl/data/geo/sentinel/s1/s1m_grd_20210701-20210711_mean_VH_R20m.tif\n",
      "File already exists\n",
      "processing image /appl/data/geo/sentinel/s1/s1m_grd_20210711-20210721_mean_VH_R20m.tif\n",
      "File already exists\n",
      "processing image /appl/data/geo/sentinel/s1/s1m_grd_20210721-20210731_mean_VH_R20m.tif\n",
      "File already exists\n",
      "processing image /appl/data/geo/sentinel/s1/s1m_grd_20210801-20210811_mean_VH_R20m.tif\n",
      "File already exists\n",
      "processing image /appl/data/geo/sentinel/s1/s1m_grd_20210811-20210821_mean_VH_R20m.tif\n",
      "File already exists\n",
      "processing image /appl/data/geo/sentinel/s1/s1m_grd_20210821-20210831_mean_VH_R20m.tif\n",
      "File already exists\n",
      "processing image /appl/data/geo/sentinel/s1/s1m_grd_20210911-20210921_mean_VH_R20m.tif\n",
      "File already exists\n",
      "processing image /appl/data/geo/sentinel/s1/s1m_grd_20210921-20211001_mean_VH_R20m.tif\n",
      "File already exists\n",
      "processing image /appl/data/geo/sentinel/s1/s1m_grd_20210501-20210511_mean_VV_R20m.tif\n",
      "File already exists\n",
      "processing image /appl/data/geo/sentinel/s1/s1m_grd_20210511-20210521_mean_VV_R20m.tif\n",
      "File already exists\n",
      "processing image /appl/data/geo/sentinel/s1/s1m_grd_20210521-20210531_mean_VV_R20m.tif\n",
      "File already exists\n",
      "processing image /appl/data/geo/sentinel/s1/s1m_grd_20210601-20210611_mean_VV_R20m.tif\n",
      "File already exists\n",
      "processing image /appl/data/geo/sentinel/s1/s1m_grd_20210611-20210621_mean_VV_R20m.tif\n",
      "File already exists\n",
      "processing image /appl/data/geo/sentinel/s1/s1m_grd_20210621-20210701_mean_VV_R20m.tif\n",
      "File already exists\n",
      "processing image /appl/data/geo/sentinel/s1/s1m_grd_20210701-20210711_mean_VV_R20m.tif\n",
      "File already exists\n",
      "processing image /appl/data/geo/sentinel/s1/s1m_grd_20210711-20210721_mean_VV_R20m.tif\n",
      "File already exists\n",
      "processing image /appl/data/geo/sentinel/s1/s1m_grd_20210721-20210731_mean_VV_R20m.tif\n",
      "File already exists\n",
      "processing image /appl/data/geo/sentinel/s1/s1m_grd_20210801-20210811_mean_VV_R20m.tif\n",
      "File already exists\n",
      "processing image /appl/data/geo/sentinel/s1/s1m_grd_20210811-20210821_mean_VV_R20m.tif\n",
      "File already exists\n",
      "processing image /appl/data/geo/sentinel/s1/s1m_grd_20210821-20210831_mean_VV_R20m.tif\n",
      "File already exists\n",
      "processing image /appl/data/geo/sentinel/s1/s1m_grd_20210911-20210921_mean_VV_R20m.tif\n",
      "File already exists\n",
      "processing image /appl/data/geo/sentinel/s1/s1m_grd_20210921-20211001_mean_VV_R20m.tif\n",
      "File already exists\n",
      "processing image /appl/data/geo/sentinel/s1/s1m_grd_20200501-20200511_max_VH_R20m.tif\n",
      "File already exists\n",
      "processing image /appl/data/geo/sentinel/s1/s1m_grd_20200511-20200521_max_VH_R20m.tif\n",
      "File already exists\n",
      "processing image /appl/data/geo/sentinel/s1/s1m_grd_20200521-20200531_max_VH_R20m.tif\n",
      "File already exists\n",
      "processing image /appl/data/geo/sentinel/s1/s1m_grd_20200601-20200611_max_VH_R20m.tif\n",
      "File already exists\n",
      "processing image /appl/data/geo/sentinel/s1/s1m_grd_20200611-20200621_max_VH_R20m.tif\n",
      "File already exists\n",
      "processing image /appl/data/geo/sentinel/s1/s1m_grd_20200621-20200701_max_VH_R20m.tif\n",
      "File already exists\n",
      "processing image /appl/data/geo/sentinel/s1/s1m_grd_20200701-20200711_max_VH_R20m.tif\n",
      "File already exists\n",
      "processing image /appl/data/geo/sentinel/s1/s1m_grd_20200721-20200731_max_VH_R20m.tif\n",
      "File already exists\n",
      "processing image /appl/data/geo/sentinel/s1/s1m_grd_20200801-20200811_max_VH_R20m.tif\n",
      "File already exists\n",
      "processing image /appl/data/geo/sentinel/s1/s1m_grd_20200811-20200821_max_VH_R20m.tif\n",
      "File already exists\n",
      "processing image /appl/data/geo/sentinel/s1/s1m_grd_20200821-20200831_max_VH_R20m.tif\n",
      "File already exists\n",
      "processing image /appl/data/geo/sentinel/s1/s1m_grd_20200901-20200911_max_VH_R20m.tif\n",
      "File already exists\n",
      "processing image /appl/data/geo/sentinel/s1/s1m_grd_20200921-20201001_max_VH_R20m.tif\n",
      "File already exists\n",
      "processing image /appl/data/geo/sentinel/s1/s1m_grd_20200501-20200511_max_VV_R20m.tif\n",
      "File already exists\n",
      "processing image /appl/data/geo/sentinel/s1/s1m_grd_20200511-20200521_max_VV_R20m.tif\n",
      "File already exists\n",
      "processing image /appl/data/geo/sentinel/s1/s1m_grd_20200521-20200531_max_VV_R20m.tif\n",
      "File already exists\n",
      "processing image /appl/data/geo/sentinel/s1/s1m_grd_20200601-20200611_max_VV_R20m.tif\n",
      "File already exists\n",
      "processing image /appl/data/geo/sentinel/s1/s1m_grd_20200611-20200621_max_VV_R20m.tif\n",
      "File already exists\n",
      "processing image /appl/data/geo/sentinel/s1/s1m_grd_20200621-20200701_max_VV_R20m.tif\n",
      "File already exists\n",
      "processing image /appl/data/geo/sentinel/s1/s1m_grd_20200701-20200711_max_VV_R20m.tif\n",
      "File already exists\n",
      "processing image /appl/data/geo/sentinel/s1/s1m_grd_20200721-20200731_max_VV_R20m.tif\n",
      "File already exists\n",
      "processing image /appl/data/geo/sentinel/s1/s1m_grd_20200801-20200811_max_VV_R20m.tif\n",
      "File already exists\n",
      "processing image /appl/data/geo/sentinel/s1/s1m_grd_20200811-20200821_max_VV_R20m.tif\n",
      "File already exists\n",
      "processing image /appl/data/geo/sentinel/s1/s1m_grd_20200821-20200831_max_VV_R20m.tif\n",
      "File already exists\n",
      "processing image /appl/data/geo/sentinel/s1/s1m_grd_20200901-20200911_max_VV_R20m.tif\n",
      "File already exists\n",
      "processing image /appl/data/geo/sentinel/s1/s1m_grd_20200921-20201001_max_VV_R20m.tif\n",
      "File already exists\n",
      "processing image /appl/data/geo/sentinel/s1/s1m_grd_20210501-20210511_max_VH_R20m.tif\n",
      "File already exists\n",
      "processing image /appl/data/geo/sentinel/s1/s1m_grd_20210511-20210521_max_VH_R20m.tif\n",
      "File already exists\n",
      "processing image /appl/data/geo/sentinel/s1/s1m_grd_20210521-20210531_max_VH_R20m.tif\n",
      "File already exists\n",
      "processing image /appl/data/geo/sentinel/s1/s1m_grd_20210601-20210611_max_VH_R20m.tif\n",
      "File already exists\n",
      "processing image /appl/data/geo/sentinel/s1/s1m_grd_20210611-20210621_max_VH_R20m.tif\n",
      "File already exists\n",
      "processing image /appl/data/geo/sentinel/s1/s1m_grd_20210621-20210701_max_VH_R20m.tif\n",
      "File already exists\n",
      "processing image /appl/data/geo/sentinel/s1/s1m_grd_20210701-20210711_max_VH_R20m.tif\n",
      "File already exists\n",
      "processing image /appl/data/geo/sentinel/s1/s1m_grd_20210711-20210721_max_VH_R20m.tif\n",
      "File already exists\n",
      "processing image /appl/data/geo/sentinel/s1/s1m_grd_20210721-20210731_max_VH_R20m.tif\n",
      "File already exists\n",
      "processing image /appl/data/geo/sentinel/s1/s1m_grd_20210801-20210811_max_VH_R20m.tif\n",
      "File already exists\n",
      "processing image /appl/data/geo/sentinel/s1/s1m_grd_20210811-20210821_max_VH_R20m.tif\n",
      "File already exists\n",
      "processing image /appl/data/geo/sentinel/s1/s1m_grd_20210821-20210831_max_VH_R20m.tif\n",
      "File already exists\n",
      "processing image /appl/data/geo/sentinel/s1/s1m_grd_20210911-20210921_max_VH_R20m.tif\n",
      "File already exists\n",
      "processing image /appl/data/geo/sentinel/s1/s1m_grd_20210921-20211001_max_VH_R20m.tif\n",
      "File already exists\n",
      "processing image /appl/data/geo/sentinel/s1/s1m_grd_20210501-20210511_max_VV_R20m.tif\n",
      "File already exists\n",
      "processing image /appl/data/geo/sentinel/s1/s1m_grd_20210511-20210521_max_VV_R20m.tif\n",
      "File already exists\n",
      "processing image /appl/data/geo/sentinel/s1/s1m_grd_20210521-20210531_max_VV_R20m.tif\n",
      "File already exists\n",
      "processing image /appl/data/geo/sentinel/s1/s1m_grd_20210601-20210611_max_VV_R20m.tif\n",
      "File already exists\n",
      "processing image /appl/data/geo/sentinel/s1/s1m_grd_20210611-20210621_max_VV_R20m.tif\n",
      "File already exists\n",
      "processing image /appl/data/geo/sentinel/s1/s1m_grd_20210621-20210701_max_VV_R20m.tif\n",
      "File already exists\n",
      "processing image /appl/data/geo/sentinel/s1/s1m_grd_20210701-20210711_max_VV_R20m.tif\n",
      "File already exists\n",
      "processing image /appl/data/geo/sentinel/s1/s1m_grd_20210711-20210721_max_VV_R20m.tif\n",
      "File already exists\n",
      "processing image /appl/data/geo/sentinel/s1/s1m_grd_20210721-20210731_max_VV_R20m.tif\n",
      "File already exists\n",
      "processing image /appl/data/geo/sentinel/s1/s1m_grd_20210801-20210811_max_VV_R20m.tif\n",
      "File already exists\n",
      "processing image /appl/data/geo/sentinel/s1/s1m_grd_20210811-20210821_max_VV_R20m.tif\n",
      "File already exists\n",
      "processing image /appl/data/geo/sentinel/s1/s1m_grd_20210821-20210831_max_VV_R20m.tif\n",
      "File already exists\n",
      "processing image /appl/data/geo/sentinel/s1/s1m_grd_20210911-20210921_max_VV_R20m.tif\n",
      "File already exists\n",
      "processing image /appl/data/geo/sentinel/s1/s1m_grd_20210921-20211001_max_VV_R20m.tif\n",
      "File already exists\n"
     ]
    }
   ],
   "source": [
    "raster_array = get_rasters()"
   ]
  },
  {
   "cell_type": "code",
   "execution_count": 7,
   "id": "3222425c",
   "metadata": {},
   "outputs": [],
   "source": [
    "def harmonize_raster_lists(raster_array):\n",
    "    \"Utility that makes equal length raster lists\"\n",
    "    idx = [0,1,4,5]\n",
    "    for i in idx:\n",
    "        raster_array[i].pop(11)\n",
    "        raster_array[i+2].pop(12)\n",
    "        raster_array[i+2].pop(7)\n",
    "    return raster_array\n",
    "\n",
    "    "
   ]
  },
  {
   "cell_type": "code",
   "execution_count": 8,
   "id": "abcf688d-c225-4ade-8a28-42f68e3f7df4",
   "metadata": {},
   "outputs": [
    {
     "name": "stdout",
     "output_type": "stream",
     "text": [
      "UM_s1m_grd_20210501-20210511_max_VH_R20m.tif\n",
      "UM_s1m_grd_20210511-20210521_max_VH_R20m.tif\n",
      "UM_s1m_grd_20210521-20210531_max_VH_R20m.tif\n",
      "UM_s1m_grd_20210601-20210611_max_VH_R20m.tif\n",
      "UM_s1m_grd_20210611-20210621_max_VH_R20m.tif\n",
      "UM_s1m_grd_20210621-20210701_max_VH_R20m.tif\n",
      "UM_s1m_grd_20210701-20210711_max_VH_R20m.tif\n",
      "UM_s1m_grd_20210711-20210721_max_VH_R20m.tif\n",
      "UM_s1m_grd_20210721-20210731_max_VH_R20m.tif\n",
      "UM_s1m_grd_20210801-20210811_max_VH_R20m.tif\n",
      "UM_s1m_grd_20210811-20210821_max_VH_R20m.tif\n",
      "UM_s1m_grd_20210821-20210831_max_VH_R20m.tif\n",
      "UM_s1m_grd_20210911-20210921_max_VH_R20m.tif\n",
      "UM_s1m_grd_20210921-20211001_max_VH_R20m.tif\n"
     ]
    }
   ],
   "source": [
    "for file in raster_array[6]:\n",
    "    print(os.path.basename(file))"
   ]
  },
  {
   "cell_type": "code",
   "execution_count": 9,
   "id": "0c85e04e-d074-43f9-92c6-e77471e8eed6",
   "metadata": {},
   "outputs": [],
   "source": [
    "harmonized_raster_array = harmonize_raster_lists(raster_array)"
   ]
  },
  {
   "cell_type": "markdown",
   "id": "550c81c9-e88e-40c5-b228-8663677d0c72",
   "metadata": {},
   "source": [
    "Create folders if they do not exist. Note that you can run command line commands from Jupyter Notebook using !"
   ]
  },
  {
   "cell_type": "code",
   "execution_count": 51,
   "id": "4618129f",
   "metadata": {},
   "outputs": [
    {
     "name": "stdout",
     "output_type": "stream",
     "text": [
      "mkdir: cannot create directory ‘/scratch/project_2004990/jutilaee/mtk_kehitys/uusimaa/difference_images/max/’: File exists\n",
      "mkdir: cannot create directory ‘/scratch/project_2004990/jutilaee/mtk_kehitys/uusimaa/difference_images/mean/VH’: File exists\n",
      "mkdir: cannot create directory ‘/scratch/project_2004990/jutilaee/mtk_kehitys/uusimaa/difference_images/max/VV’: File exists\n",
      "mkdir: cannot create directory ‘/scratch/project_2004990/jutilaee/mtk_kehitys/uusimaa/difference_images/max/VH’: File exists\n"
     ]
    }
   ],
   "source": [
    "!mkdir /scratch/project_2004990/jutilaee/mtk_kehitys/uusimaa/difference_images/max/\n",
    "!mkdir /scratch/project_2004990/jutilaee/mtk_kehitys/uusimaa/difference_images/mean/VH\n",
    "!mkdir /scratch/project_2004990/jutilaee/mtk_kehitys/uusimaa/difference_images/max/VV\n",
    "!mkdir /scratch/project_2004990/jutilaee/mtk_kehitys/uusimaa/difference_images/max/VH\n",
    "!mkdir /scratch/project_2004990/jutilaee/mtk_kehitys/uusimaa/difference_images/mean/VV"
   ]
  },
  {
   "cell_type": "code",
   "execution_count": 39,
   "id": "d7c7c31c",
   "metadata": {},
   "outputs": [],
   "source": [
    "def difference_image(image_1, image_2):\n",
    "    \"Calculate a difference image between two input images\"\n",
    "    \n",
    "    # Open images with rasterio\n",
    "    ds1 = rio.open(image_1)\n",
    "    ds2 = rio.open(image_2)\n",
    "    \n",
    "    # Read image bands to numpy arrays\n",
    "    b1 = ds1.read(1)\n",
    "    b2 = ds2.read(1)\n",
    "    \n",
    "    # Convert decibel values into linear \n",
    "    b1_linear = 10**(b1/10)\n",
    "    b2_linear = 10**(b2/10)\n",
    "    \n",
    "    # Calculate the ratio image\n",
    "    ratio_linear = b2_linear/b1_linear\n",
    "  \n",
    "\n",
    "    start_date = os.path.basename(image_1).split('_')[3].split('-')[0]\n",
    "    end_date = os.path.basename(image_2).split('_')[3].split('-')[1]\n",
    "\n",
    "    statistic = os.path.basename(image_1).split('_')[4]\n",
    "    polarization = os.path.basename(image_1).split('_')[5]\n",
    "\n",
    "    ratio_image_name = f'UM_{statistic}_{polarization}_{start_date}-{end_date}_ratio.tif'\n",
    "    \n",
    "\n",
    "    ratio_image_path = os.path.join('/scratch/project_2004990/jutilaee/mtk_kehitys/uusimaa/difference_images',statistic,polarization,ratio_image_name)\n",
    "\n",
    "    # Create an rasterio environment to save the ratio image\n",
    "    with rio.Env():\n",
    "\n",
    "        # Copy image profile from the first input image\n",
    "        profile = ds1.profile\n",
    "\n",
    "         # Specify a new no-data value\n",
    "        profile.update(\n",
    "            # set no data value\n",
    "            nodata=-3.40282e+38\n",
    "        )\n",
    "        # Save the ratio image\n",
    "        with rio.open(ratio_image_path, 'w', **profile) as dst:\n",
    "            dst.write(ratio_linear, 1)\n",
    "\n",
    "    ds1.close()\n",
    "    ds2.close()\n",
    "\n",
    "    return ratio_linear\n"
   ]
  },
  {
   "cell_type": "code",
   "execution_count": 56,
   "id": "da732b96-d1ed-4380-8e9e-717ea6fd12ee",
   "metadata": {},
   "outputs": [],
   "source": [
    "def pca_image(image_1, image_2):\n",
    "    \n",
    "    \"Transfrom two input images to their principal components using principal component analysis PCA\"\n",
    "    # open the images and read in their band1\n",
    "    ds1 = rio.open(image_1)\n",
    "    ds2 = rio.open(image_2)\n",
    "    b1 = ds1.read(1)\n",
    "    b2 = ds2.read(1)\n",
    "    \n",
    "    # Create image stack of two images\n",
    "    stack = np.stack((b1,b2))\n",
    "    # flatten the stack to 1D \n",
    "    stack = np.transpose(stack, (1, 2, 0))\n",
    "    stack = stack.reshape(-1,2)\n",
    "    \n",
    "    # Initialize the PCA\n",
    "    pca = PCA(n_components=2)\n",
    "    # Perform the PCA\n",
    "    pca.fit(stack)\n",
    "    \n",
    "    print('Relative variance in principal components:',\n",
    "      pca.explained_variance_ratio_)\n",
    "    \n",
    "    # Transfrom the images to their principal components\n",
    "    predict = pca.transform(stack)\n",
    "    \n",
    "    # Reshape the transformed 1D array back to image\n",
    "    pca_img  = np.reshape(predict, (7200, 12000,2))\n",
    "    pca_img = np.transpose(pca_img, (2,0,1))\n",
    "    pca_img = pca_img[0]\n",
    "    \n",
    "    start_date = os.path.basename(image_1).split('_')[3].split('-')[0]\n",
    "    end_date = os.path.basename(image_2).split('_')[3].split('-')[1]\n",
    "\n",
    "    statistic = os.path.basename(image_1).split('_')[4]\n",
    "    polarization = os.path.basename(image_1).split('_')[5]\n",
    "\n",
    "    pca_image_name = f'UM_{statistic}_{polarization}_{start_date}-{end_date}_pca.tif'\n",
    "    \n",
    "\n",
    "    pca_image_path = os.path.join('/scratch/project_2004990/jutilaee/mtk_kehitys/uusimaa/difference_images',statistic,polarization,pca_image_name)\n",
    "\n",
    "    # Create an rasterio environment to save the ratio image\n",
    "    with rio.Env():\n",
    "\n",
    "        # Copy image profile from the first input image\n",
    "        profile = ds1.profile\n",
    "\n",
    "        # Specify a new no-data value\n",
    "        profile.update(\n",
    "            nodata=-3.40282e+38\n",
    "\n",
    "        )\n",
    "        # Save the PCA transformed image\n",
    "        with rio.open(pca_image_path, 'w', **profile) as dst:\n",
    "            dst.write(pca_img, 1)\n",
    "\n",
    "    ds1.close()\n",
    "    ds2.close()\n",
    "\n",
    "    return None"
   ]
  },
  {
   "cell_type": "markdown",
   "id": "34c52890-d2e0-4e0e-8d11-1fe04d3bd059",
   "metadata": {},
   "source": [
    "### Difference images for VH images"
   ]
  },
  {
   "cell_type": "code",
   "execution_count": 50,
   "id": "50435908",
   "metadata": {},
   "outputs": [],
   "source": [
    "for i in range(len(harmonized_raster_array[0])-1):\n",
    "    difference_image(harmonized_raster_array[0][i], harmonized_raster_array[0][i+1])\n",
    "    difference_image(harmonized_raster_array[2][i], harmonized_raster_array[2][i+1])\n",
    "    difference_image(harmonized_raster_array[4][i], harmonized_raster_array[4][i+1])\n",
    "    difference_image(harmonized_raster_array[6][i], harmonized_raster_array[6][i+1])"
   ]
  },
  {
   "cell_type": "markdown",
   "id": "799e8313-59e3-4270-80ba-5a46b4b28b34",
   "metadata": {},
   "source": [
    "### PCA transform for VH images"
   ]
  },
  {
   "cell_type": "code",
   "execution_count": 59,
   "id": "31591fe0-44f9-496b-9390-685877bc9a8e",
   "metadata": {},
   "outputs": [
    {
     "name": "stdout",
     "output_type": "stream",
     "text": [
      "Relative variance in principal components: [0.95530364 0.04469636]\n",
      "Relative variance in principal components: [0.97207163 0.02792837]\n",
      "Relative variance in principal components: [0.97479466 0.02520534]\n",
      "Relative variance in principal components: [0.98596408 0.01403592]\n",
      "Relative variance in principal components: [0.96863217 0.03136783]\n",
      "Relative variance in principal components: [0.97828215 0.02171785]\n",
      "Relative variance in principal components: [0.98478878 0.01521122]\n",
      "Relative variance in principal components: [0.98845217 0.01154783]\n",
      "Relative variance in principal components: [0.98296774 0.01703226]\n",
      "Relative variance in principal components: [0.97118845 0.02881155]\n",
      "Relative variance in principal components: [0.98800466 0.01199534]\n",
      "Relative variance in principal components: [0.99094259 0.00905741]\n",
      "Relative variance in principal components: [0.96542885 0.03457115]\n",
      "Relative variance in principal components: [0.94512561 0.05487439]\n",
      "Relative variance in principal components: [0.98894593 0.01105407]\n",
      "Relative variance in principal components: [0.97850375 0.02149625]\n",
      "Relative variance in principal components: [0.97120279 0.02879721]\n",
      "Relative variance in principal components: [0.95555156 0.04444844]\n",
      "Relative variance in principal components: [0.99034585 0.00965415]\n",
      "Relative variance in principal components: [0.9814497 0.0185503]\n",
      "Relative variance in principal components: [0.9650843 0.0349157]\n",
      "Relative variance in principal components: [0.97065674 0.02934326]\n",
      "Relative variance in principal components: [0.97544613 0.02455387]\n",
      "Relative variance in principal components: [0.97488604 0.02511396]\n",
      "Relative variance in principal components: [0.9743591 0.0256409]\n",
      "Relative variance in principal components: [0.96545376 0.03454624]\n",
      "Relative variance in principal components: [0.9808567 0.0191433]\n",
      "Relative variance in principal components: [0.97849881 0.02150119]\n",
      "Relative variance in principal components: [0.98467823 0.01532177]\n",
      "Relative variance in principal components: [0.96352685 0.03647315]\n",
      "Relative variance in principal components: [0.99210169 0.00789831]\n",
      "Relative variance in principal components: [0.9861789 0.0138211]\n",
      "Relative variance in principal components: [0.98241737 0.01758263]\n",
      "Relative variance in principal components: [0.96038528 0.03961472]\n",
      "Relative variance in principal components: [0.9933225 0.0066775]\n",
      "Relative variance in principal components: [0.98595402 0.01404598]\n",
      "Relative variance in principal components: [0.72115563 0.27884437]\n",
      "Relative variance in principal components: [0.95850085 0.04149915]\n",
      "Relative variance in principal components: [0.72603249 0.27396751]\n",
      "Relative variance in principal components: [0.98699977 0.01300023]\n",
      "Relative variance in principal components: [0.72048645 0.27951355]\n",
      "Relative variance in principal components: [0.95521325 0.04478675]\n",
      "Relative variance in principal components: [0.72285481 0.27714519]\n",
      "Relative variance in principal components: [0.98270558 0.01729442]\n"
     ]
    }
   ],
   "source": [
    "for i in range(len(raster_array[0])-1):\n",
    "    pca_image(harmonized_raster_array[4][i], harmonized_raster_array[4][i+1])\n",
    "    pca_image(harmonized_raster_array[6][i], harmonized_raster_array[6][i+1])\n",
    "    pca_image(harmonized_raster_array[0][i], harmonized_raster_array[0][i+1])\n",
    "    pca_image(harmonized_raster_array[2][i], harmonized_raster_array[2][i+1])"
   ]
  },
  {
   "cell_type": "markdown",
   "id": "a30d194b-19b3-45b6-b955-e57a0ebc3722",
   "metadata": {},
   "source": [
    "## Virtual rasters"
   ]
  },
  {
   "cell_type": "code",
   "execution_count": 40,
   "id": "e972a258-34d5-4884-96e5-bd54ff5f81e4",
   "metadata": {},
   "outputs": [
    {
     "name": "stdout",
     "output_type": "stream",
     "text": [
      "mkdir: cannot create directory ‘/scratch/project_2004990/jutilaee/mtk_kehitys/uusimaa/difference_images/vrt’: File exists\n",
      "mkdir: cannot create directory ‘/scratch/project_2004990/jutilaee/mtk_kehitys/uusimaa/difference_images/stacks’: File exists\n"
     ]
    }
   ],
   "source": [
    "# Create again more folders\n",
    "!mkdir /scratch/project_2004990/jutilaee/mtk_kehitys/uusimaa/difference_images/vrt\n",
    "!mkdir /scratch/project_2004990/jutilaee/mtk_kehitys/uusimaa/difference_images/stacks"
   ]
  },
  {
   "cell_type": "markdown",
   "id": "cf5fac6f-2d24-4d8d-8047-91f911162f81",
   "metadata": {},
   "source": [
    "### Virtual raster creation for original VH images"
   ]
  },
  {
   "cell_type": "code",
   "execution_count": 34,
   "id": "66d9f6a5-6839-4389-8fbe-e438db4206fb",
   "metadata": {},
   "outputs": [
    {
     "name": "stdout",
     "output_type": "stream",
     "text": [
      "0...10...20...30...40...50...60...70...80...90...100 - done.\n",
      "0...10...20...30...40...50...60...70...80...90...100 - done.\n",
      "0...10...20...30...40...50...60...70...80...90...100 - done.\n",
      "0...10...20...30...40...50...60...70...80...90...100 - done.\n"
     ]
    }
   ],
   "source": [
    "# combine images from year 2020 with images from year 2021\n",
    "mean_vh_list = raster_array[0] + raster_array[2]\n",
    "max_vh_list =  raster_array[4] + raster_array[6]\n",
    "\n",
    "# yearly composites\n",
    "max_vh_20 = raster_array[4] \n",
    "max_vh_21 = raster_array[6] \n",
    "\n",
    "# write image lists to file\n",
    "with open ('/scratch/project_2004990/jutilaee/mtk_kehitys/uusimaa/virtual_rasters/mean_vh_list.txt', 'w') as file:\n",
    "    for image in mean_vh_list:\n",
    "        file.write(image + \"\\n\")\n",
    "        \n",
    "with open ('/scratch/project_2004990/jutilaee/mtk_kehitys/uusimaa/virtual_rasters/max_vh_list.txt', 'w') as file:\n",
    "    for image in max_vh_list:\n",
    "        file.write(image + \"\\n\")\n",
    "        \n",
    "with open ('/scratch/project_2004990/jutilaee/mtk_kehitys/uusimaa/virtual_rasters/max_vh_20.txt', 'w') as file:\n",
    "    for image in max_vh_20:\n",
    "        file.write(image + \"\\n\")\n",
    "        \n",
    "with open ('/scratch/project_2004990/jutilaee/mtk_kehitys/uusimaa/virtual_rasters/max_vh_21.txt', 'w') as file:\n",
    "    for image in max_vh_21:\n",
    "        file.write(image + \"\\n\")\n",
    "        \n",
    "        \n",
    "\n",
    "# build virtual rasters        \n",
    "!gdalbuildvrt -separate -overwrite /scratch/project_2004990/jutilaee/mtk_kehitys/uusimaa/virtual_rasters/UM_mean_VH.vrt -input_file_list /scratch/project_2004990/jutilaee/mtk_kehitys/uusimaa/virtual_rasters/mean_vh_list.txt\n",
    "!gdalbuildvrt -separate -overwrite /scratch/project_2004990/jutilaee/mtk_kehitys/uusimaa/virtual_rasters/UM_max_VH.vrt -input_file_list /scratch/project_2004990/jutilaee/mtk_kehitys/uusimaa/virtual_rasters/max_vh_list.txt\n",
    "!gdalbuildvrt -separate -overwrite /scratch/project_2004990/jutilaee/mtk_kehitys/uusimaa/virtual_rasters/UM_max_VH_20.vrt -input_file_list /scratch/project_2004990/jutilaee/mtk_kehitys/uusimaa/virtual_rasters/max_vh_20.txt\n",
    "!gdalbuildvrt -separate -overwrite /scratch/project_2004990/jutilaee/mtk_kehitys/uusimaa/virtual_rasters/UM_max_VH_21.vrt -input_file_list /scratch/project_2004990/jutilaee/mtk_kehitys/uusimaa/virtual_rasters/max_vh_21.txt"
   ]
  },
  {
   "cell_type": "code",
   "execution_count": 37,
   "id": "84751c1b-d7de-4383-adb4-9fff085418fb",
   "metadata": {},
   "outputs": [
    {
     "name": "stdout",
     "output_type": "stream",
     "text": [
      "------------------------------------------\n",
      "QGIS 3.22 and GRASS GIS 7.8.5\n",
      "https://docs.csc.fi/apps/qgis\n",
      "https://docs.csc.fi/apps/grass\n",
      "------------------------------------------\n",
      "\n",
      "Lmod is automatically replacing \"geoconda/3.10.6\" with \"qgis/3.22\".\n",
      "\n",
      "------------------------------------------\n",
      "QGIS 3.22 and GRASS GIS 7.8.5\n",
      "https://docs.csc.fi/apps/qgis\n",
      "https://docs.csc.fi/apps/grass\n",
      "------------------------------------------\n"
     ]
    }
   ],
   "source": [
    "! module load qgis"
   ]
  },
  {
   "cell_type": "code",
   "execution_count": 40,
   "id": "2f155efe-6afe-4545-b82d-4bfeca085c27",
   "metadata": {},
   "outputs": [
    {
     "ename": "ImportError",
     "evalue": "cannot import name 'qgis' from 'osgeo' (/CSC_CONTAINER/miniconda/envs/env1/lib/python3.10/site-packages/GDAL-3.5.0-py3.10-linux-x86_64.egg/osgeo/__init__.py)",
     "output_type": "error",
     "traceback": [
      "\u001b[0;31m---------------------------------------------------------------------------\u001b[0m",
      "\u001b[0;31mImportError\u001b[0m                               Traceback (most recent call last)",
      "\u001b[0;32m/run/nvme/job_14762851/tmp/ipykernel_181168/2347137534.py\u001b[0m in \u001b[0;36m<cell line: 1>\u001b[0;34m()\u001b[0m\n\u001b[0;32m----> 1\u001b[0;31m \u001b[0;32mfrom\u001b[0m \u001b[0mosgeo\u001b[0m \u001b[0;32mimport\u001b[0m \u001b[0mqgis\u001b[0m\u001b[0;34m\u001b[0m\u001b[0;34m\u001b[0m\u001b[0m\n\u001b[0m",
      "\u001b[0;31mImportError\u001b[0m: cannot import name 'qgis' from 'osgeo' (/CSC_CONTAINER/miniconda/envs/env1/lib/python3.10/site-packages/GDAL-3.5.0-py3.10-linux-x86_64.egg/osgeo/__init__.py)"
     ]
    }
   ],
   "source": [
    "from osgeo import qgs"
   ]
  },
  {
   "cell_type": "code",
   "execution_count": 38,
   "id": "21fe5ce6-4cb9-4fb1-a58c-85e9361a7e59",
   "metadata": {},
   "outputs": [
    {
     "ename": "ModuleNotFoundError",
     "evalue": "No module named 'qgis'",
     "output_type": "error",
     "traceback": [
      "\u001b[0;31m---------------------------------------------------------------------------\u001b[0m",
      "\u001b[0;31mModuleNotFoundError\u001b[0m                       Traceback (most recent call last)",
      "\u001b[0;32m/run/nvme/job_14762851/tmp/ipykernel_181168/1195432342.py\u001b[0m in \u001b[0;36m<cell line: 1>\u001b[0;34m()\u001b[0m\n\u001b[0;32m----> 1\u001b[0;31m \u001b[0;32mfrom\u001b[0m \u001b[0mqgis\u001b[0m \u001b[0;32mimport\u001b[0m \u001b[0mprocessing\u001b[0m\u001b[0;34m\u001b[0m\u001b[0;34m\u001b[0m\u001b[0m\n\u001b[0m\u001b[1;32m      2\u001b[0m \u001b[0mprocessing\u001b[0m\u001b[0;34m.\u001b[0m\u001b[0mrun\u001b[0m\u001b[0;34m(\u001b[0m\u001b[0;34m\"native:cellstatistics\"\u001b[0m\u001b[0;34m,\u001b[0m \u001b[0;34m{\u001b[0m\u001b[0;34m'INPUT'\u001b[0m\u001b[0;34m:\u001b[0m\u001b[0;34m[\u001b[0m\u001b[0;34m'/scratch/project_2004990/jutilaee/mtk_kehitys/uusimaa/virtual_rasters/UM_max_VH_20.vrt'\u001b[0m\u001b[0;34m]\u001b[0m\u001b[0;34m,\u001b[0m\u001b[0;34m'STATISTIC'\u001b[0m\u001b[0;34m:\u001b[0m\u001b[0;36m3\u001b[0m\u001b[0;34m,\u001b[0m\u001b[0;34m'IGNORE_NODATA'\u001b[0m\u001b[0;34m:\u001b[0m\u001b[0;32mTrue\u001b[0m\u001b[0;34m,\u001b[0m\u001b[0;34m'REFERENCE_LAYER'\u001b[0m\u001b[0;34m:\u001b[0m\u001b[0;34m'/scratch/project_2004990/jutilaee/mtk_kehitys/uusimaa/virtual_rasters/UM_max_VH_20.vrt'\u001b[0m\u001b[0;34m,\u001b[0m\u001b[0;34m'OUTPUT_NODATA_VALUE'\u001b[0m\u001b[0;34m:\u001b[0m\u001b[0;34m-\u001b[0m\u001b[0;36m9999\u001b[0m\u001b[0;34m,\u001b[0m\u001b[0;34m'OUTPUT'\u001b[0m\u001b[0;34m:\u001b[0m\u001b[0;34m'/scratch/project_2004990/jutilaee/mtk_kehitys/uusimaa/UM_max_max_VH_20.tif'\u001b[0m\u001b[0;34m}\u001b[0m\u001b[0;34m)\u001b[0m\u001b[0;34m\u001b[0m\u001b[0;34m\u001b[0m\u001b[0m\n",
      "\u001b[0;31mModuleNotFoundError\u001b[0m: No module named 'qgis'"
     ]
    }
   ],
   "source": [
    "from oag\n",
    "processing.run(\"native:cellstatistics\", {'INPUT':['/scratch/project_2004990/jutilaee/mtk_kehitys/uusimaa/virtual_rasters/UM_max_VH_20.vrt'],'STATISTIC':3,'IGNORE_NODATA':True,'REFERENCE_LAYER':'/scratch/project_2004990/jutilaee/mtk_kehitys/uusimaa/virtual_rasters/UM_max_VH_20.vrt','OUTPUT_NODATA_VALUE':-9999,'OUTPUT':'/scratch/project_2004990/jutilaee/mtk_kehitys/uusimaa/UM_max_max_VH_20.tif'})"
   ]
  },
  {
   "cell_type": "markdown",
   "id": "d2ede00f-fd29-4211-b761-0b59ef4c90f8",
   "metadata": {},
   "source": [
    "### Virtual raster creation for ratio images"
   ]
  },
  {
   "cell_type": "code",
   "execution_count": 70,
   "id": "d511e4ab-328b-4d6a-9da5-5a641f9e39ad",
   "metadata": {},
   "outputs": [
    {
     "name": "stdout",
     "output_type": "stream",
     "text": [
      "0...10...20...30...40...50...60...70...80...90...100 - done.\n",
      "0...10...20...30...40...50...60...70...80...90...100 - done.\n"
     ]
    }
   ],
   "source": [
    "!gdalbuildvrt -separate -overwrite /scratch/project_2004990/jutilaee/mtk_kehitys/uusimaa/difference_images/vrt/UM_mean_VH_ratio.vrt /scratch/project_2004990/jutilaee/mtk_kehitys/uusimaa/difference_images/mean/VH/*.tif\n",
    "!gdalbuildvrt -separate -overwrite /scratch/project_2004990/jutilaee/mtk_kehitys/uusimaa/difference_images/vrt/UM_max_VH_ratio.vrt /scratch/project_2004990/jutilaee/mtk_kehitys/uusimaa/difference_images/max/VH/*.tif"
   ]
  },
  {
   "cell_type": "markdown",
   "id": "cd0a3551-d562-4e0a-bdff-e5285874bf8b",
   "metadata": {},
   "source": [
    "### Virtual raster creation for PCA transformed images"
   ]
  },
  {
   "cell_type": "code",
   "execution_count": 71,
   "id": "afc7bd9e-e35d-45c8-a440-06d4dac435f5",
   "metadata": {},
   "outputs": [
    {
     "name": "stdout",
     "output_type": "stream",
     "text": [
      "0...10...20...30...40...50...60...70...80...90...100 - done.\n",
      "0...10...20...30...40...50...60...70...80...90...100 - done.\n"
     ]
    }
   ],
   "source": [
    "!gdalbuildvrt -separate -overwrite /scratch/project_2004990/jutilaee/mtk_kehitys/uusimaa/difference_images/vrt/UM_max_VH_pca.vrt /scratch/project_2004990/jutilaee/mtk_kehitys/uusimaa/difference_images/max/VH/*pca.tif\n",
    "!gdalbuildvrt -separate -overwrite /scratch/project_2004990/jutilaee/mtk_kehitys/uusimaa/difference_images/vrt/UM_mean_VH_pca.vrt /scratch/project_2004990/jutilaee/mtk_kehitys/uusimaa/difference_images/mean/VH/*pca.tif"
   ]
  },
  {
   "cell_type": "markdown",
   "id": "9610e4a4-e5e3-4e62-8bb2-bbdd4e8c34e8",
   "metadata": {},
   "source": [
    "## Raster stacks"
   ]
  },
  {
   "cell_type": "code",
   "execution_count": 76,
   "id": "ab06081a-cdeb-46b1-a6ae-47ee343b6679",
   "metadata": {},
   "outputs": [
    {
     "name": "stdout",
     "output_type": "stream",
     "text": [
      "Input file size is 12000, 7200\n",
      "0...10...20...30...40...50...60...70...80...90...100 - done.\n",
      "Input file size is 12000, 7200\n",
      "0...10...20...30...40...50...60...70...80...90...100 - done.\n",
      "Input file size is 12000, 7200\n",
      "0...10...20...30...40...50...60...70...80...90...100 - done.\n",
      "Input file size is 12000, 7200\n",
      "0...10...20...30...40...50...60...70...80...90...100 - done.\n",
      "Input file size is 12000, 7200\n",
      "0...10...20...30...40...50...60...70...80...90...100 - done.\n",
      "Input file size is 12000, 7200\n",
      "0...10...20...30...40...50...60...70...80...90...100 - done.\n",
      "Input file size is 12000, 7200\n",
      "0...10...20...30...40...50...60...70...80...90...100 - done.\n"
     ]
    }
   ],
   "source": [
    "!gdal_translate /scratch/project_2004990/jutilaee/mtk_kehitys/uusimaa/difference_images/vrt/UM_mean_VH_ratio.vrt /scratch/project_2004990/jutilaee/mtk_kehitys/uusimaa/difference_images/stacks/UM_mean_VH_ratio.tif\n",
    "!gdal_translate /scratch/project_2004990/jutilaee/mtk_kehitys/uusimaa/difference_images/vrt/UM_max_VH_ratio.vrt /scratch/project_2004990/jutilaee/mtk_kehitys/uusimaa/difference_images/stacks/UM_max_VH_ratio.tif\n",
    "!gdal_translate /scratch/project_2004990/jutilaee/mtk_kehitys/uusimaa/difference_images/vrt/UM_max_VH_pca.vrt  /scratch/project_2004990/jutilaee/mtk_kehitys/uusimaa/difference_images/stacks/UM_max_VH_pca.tif\n",
    "!gdal_translate /scratch/project_2004990/jutilaee/mtk_kehitys/uusimaa/difference_images/vrt/UM_mean_VH_pca.vrt  /scratch/project_2004990/jutilaee/mtk_kehitys/uusimaa/difference_images/stacks/UM_mean_VH_pca.tif\n",
    "!gdal_translate /scratch/project_2004990/jutilaee/mtk_kehitys/uusimaa/virtual_rasters/UM_bitemporal_mean.vrt /scratch/project_2004990/jutilaee/mtk_kehitys/uusimaa/UM_bitemporal_mean_VH.tif\n",
    "!gdal_translate /scratch/project_2004990/jutilaee/mtk_kehitys/uusimaa/virtual_rasters/UM_max_VH.vrt /scratch/project_2004990/jutilaee/mtk_kehitys/uusimaa/UM_max_VH.tif\n",
    "!gdal_translate /scratch/project_2004990/jutilaee/mtk_kehitys/uusimaa/virtual_rasters/UM_mean_VH.vrt /scratch/project_2004990/jutilaee/mtk_kehitys/uusimaa/UM_mean_VH.tif\n"
   ]
  },
  {
   "cell_type": "markdown",
   "id": "54c52156-9ee4-4f8d-8bd0-f679a49a6ff5",
   "metadata": {},
   "source": [
    "### Clip rasters to training area"
   ]
  },
  {
   "cell_type": "code",
   "execution_count": 75,
   "id": "589dfcee",
   "metadata": {},
   "outputs": [
    {
     "name": "stdout",
     "output_type": "stream",
     "text": [
      "Input file size is 12000, 7200\n",
      "0...10...20...30...40...50...60...70...80...90...100 - done.\n",
      "Input file size is 12000, 7200\n",
      "0...10...20...30...40...50...60...70...80...90...100 - done.\n",
      "Input file size is 12000, 7200\n",
      "0...10...20...30...40...50...60...70...80...90...100 - done.\n",
      "Input file size is 12000, 7200\n",
      "0...10...20...30...40...50...60...70...80...90...100 - done.\n",
      "Input file size is 12000, 7200\n",
      "0...10...20...30...40...50...60...70...80...90...100 - done.\n",
      "Input file size is 12000, 7200\n",
      "0...10...20...30...40...50...60...70...80...90...100 - done.\n",
      "Input file size is 12000, 7200\n",
      "0...10...20...30...40...50...60...70...80...90...100 - done.\n"
     ]
    }
   ],
   "source": [
    "# original time series\n",
    "! gdal_translate /scratch/project_2004990/jutilaee/mtk_kehitys/uusimaa/virtual_rasters/UM_mean_VH.vrt /scratch/project_2004990/jutilaee/mtk_kehitys/uusimaa/training_data/UM_mean_VH_training.tif \\\n",
    " -projwin 302280.0000000000000000  6718100.0000000000000000  330960.0000000000000000 6701800.0000000000000000\n",
    "! gdal_translate /scratch/project_2004990/jutilaee/mtk_kehitys/uusimaa/virtual_rasters/UM_max_VH.vrt /scratch/project_2004990/jutilaee/mtk_kehitys/uusimaa/training_data/UM_max_VH_training.tif \\\n",
    " -projwin 302280.0000000000000000  6718100.0000000000000000  330960.0000000000000000 6701800.0000000000000000\n",
    "\n",
    "\n",
    "# pca images\n",
    "! gdal_translate /scratch/project_2004990/jutilaee/mtk_kehitys/uusimaa/difference_images/vrt/UM_mean_VH_pca.vrt /scratch/project_2004990/jutilaee/mtk_kehitys/uusimaa/training_data/UM_mean_VH_pca_training.tif \\\n",
    " -projwin 302280.0000000000000000  6718100.0000000000000000  330960.0000000000000000 6701800.0000000000000000\n",
    "! gdal_translate /scratch/project_2004990/jutilaee/mtk_kehitys/uusimaa/difference_images/vrt/UM_max_VH_pca.vrt /scratch/project_2004990/jutilaee/mtk_kehitys/uusimaa/training_data/UM_max_VH_pca_training.tif \\\n",
    " -projwin 302280.0000000000000000  6718100.0000000000000000  330960.0000000000000000 6701800.0000000000000000\n",
    " # ratio images\n",
    "! gdal_translate /scratch/project_2004990/jutilaee/mtk_kehitys/uusimaa/difference_images/vrt/UM_mean_VH_pca.vrt /scratch/project_2004990/jutilaee/mtk_kehitys/uusimaa/training_data/UM_mean_VH_pca_training.tif \\\n",
    " -projwin 302280.0000000000000000  6718100.0000000000000000  330960.0000000000000000 6701800.0000000000000000\n",
    "! gdal_translate /scratch/project_2004990/jutilaee/mtk_kehitys/uusimaa/difference_images/vrt/UM_max_VH_pca.vrt /scratch/project_2004990/jutilaee/mtk_kehitys/uusimaa/training_data/UM_max_VH_pca_training.tif \\\n",
    " -projwin 302280.0000000000000000  6718100.0000000000000000  330960.0000000000000000 6701800.0000000000000000\n",
    "\n",
    "# yearly composites\n",
    "! gdal_translate /scratch/project_2004990/jutilaee/mtk_kehitys/uusimaa/virtual_rasters/UM_bitemporal_mean.vrt /scratch/project_2004990/jutilaee/mtk_kehitys/uusimaa/training_data/UM_mean_VH_bitemporal_training.tif \\\n",
    " -projwin 302280.0000000000000000  6718100.0000000000000000  330960.0000000000000000 6701800.0000000000000000\n"
   ]
  },
  {
   "cell_type": "markdown",
   "id": "2b6e04e2-a14d-462b-83d5-71ee48103410",
   "metadata": {},
   "source": [
    "### Increased training area"
   ]
  },
  {
   "cell_type": "code",
   "execution_count": 8,
   "id": "575adb7c-bf50-4a7f-9fd4-fc007247c9a7",
   "metadata": {},
   "outputs": [
    {
     "name": "stdout",
     "output_type": "stream",
     "text": [
      "Input file size is 12000, 7200\n",
      "0...10...20...30...40...50...60...70...80...90...100 - done.\n"
     ]
    }
   ],
   "source": [
    "! gdal_translate /scratch/project_2004990/jutilaee/mtk_kehitys/uusimaa/virtual_rasters/UM_bitemporal_mean.vrt /scratch/project_2004990/jutilaee/mtk_kehitys/uusimaa/training_data/UM_mean_VH_bitemporal_training_large.tif \\\n",
    "    -projwin 280430.0 6738772.0 400430.0 6668772.0 \n",
    "#-a_nodata 255"
   ]
  },
  {
   "cell_type": "markdown",
   "id": "f9900f44-dd73-44d5-af18-299f79292346",
   "metadata": {},
   "source": [
    "## Create features and lables for training"
   ]
  },
  {
   "cell_type": "code",
   "execution_count": 17,
   "id": "5f9cf3c1",
   "metadata": {},
   "outputs": [],
   "source": [
    "base_folder = '/scratch/project_2004990/jutilaee/mtk_kehitys/uusimaa'\n",
    "image_path = '/scratch/project_2004990/jutilaee/mtk_kehitys/uusimaa/training_data/UM_max_VH_training.tif'\n",
    "image_path = '/scratch/project_2004990/jutilaee/mtk_kehitys/uusimaa/training_data/UM_mean_VH_bitemporal_training_large.tif'\n",
    "shape_path = os.path.join(base_folder,'training_data/uusimaa_change_labels_clipped.gpkg')\n",
    "csv_path = os.path.join(base_folder,'uusimaa_signatures_and_features_max_VH.csv')\n",
    "csv_path = os.path.join(base_folder,'uusimaa_signatures_and_features_mean_VH_bitemporal.csv')"
   ]
  },
  {
   "cell_type": "code",
   "execution_count": 18,
   "id": "adeecf52",
   "metadata": {},
   "outputs": [],
   "source": [
    "def get_local_top_left(raster1, raster2):\n",
    "    \"\"\"\n",
    "    NOT MY OWN CODE BUT I DO NOT REMEMBER THE SOURCE\n",
    "    Gets the top-left corner of raster1 in the array of raster 2.\n",
    "    Assumes both rasters are in the same projection and units.\n",
    "\n",
    "    Parameters\n",
    "    ----------\n",
    "    raster1 : gdal.Image\n",
    "        The raster to get the top-left corner of.\n",
    "    raster2 : gdal.Image\n",
    "        The raster that raster1's top-left corner is over.\n",
    "\n",
    "    Returns\n",
    "    -------\n",
    "    x_pixel, y_pixel : int\n",
    "        The indicies of the pixel of top-left corner of raster 1 in raster 2.\n",
    "\n",
    "    \"\"\"\n",
    "    # TODO: Test this\n",
    "    inner_gt = raster2.GetGeoTransform()\n",
    "    return point_to_pixel_coordinates(raster1, [inner_gt[0], inner_gt[3]])"
   ]
  },
  {
   "cell_type": "code",
   "execution_count": 19,
   "id": "68d88f36",
   "metadata": {},
   "outputs": [],
   "source": [
    "def pixel_to_point_coordinates(pixel, GT):\n",
    "    \"\"\"\n",
    "    NOT MY OWN CODE BUT I DO NOT REMEMBER THE SOURCE\n",
    "    Given a pixel and a geotransformation, returns the picaltion of that pixel's top left corner in the projection\n",
    "    used by the geotransform.\n",
    "    NOTE: At present, this takes input in the form of y,x! This is opposite to the output of point_to_pixel_coordinates!\n",
    "\n",
    "    Parameters\n",
    "    ----------\n",
    "    pixel : iterable\n",
    "        A tuple (y, x) of the coordinates of the pixel\n",
    "    GT : iterable\n",
    "        A six-element numpy array containing a geotransform\n",
    "\n",
    "    Returns\n",
    "    -------\n",
    "    Xgeo, Ygeo : number\n",
    "        The geographic coordinates of the top-left corner of the pixel.\n",
    "\n",
    "    \"\"\"\n",
    "    Xpixel = pixel[1]\n",
    "    Yline = pixel[0]\n",
    "    Xgeo = GT[0] + Xpixel * GT[1] + Yline * GT[2]\n",
    "    Ygeo = GT[3] + Xpixel * GT[4] + Yline * GT[5]\n",
    "    return Xgeo, Ygeo\n"
   ]
  },
  {
   "cell_type": "code",
   "execution_count": 20,
   "id": "5be5b307",
   "metadata": {},
   "outputs": [],
   "source": [
    "def point_to_pixel_coordinates(raster, point, oob_fail=False):\n",
    "    \"\"\"\n",
    "    NOT MY OWN CODE BUT I DO NOT REMEMBER THE SOURCE\n",
    "    Returns a tuple (x_pixel, y_pixel) in a georaster raster corresponding to the geographic point in a projection.\n",
    "     Assumes raster is north-up non rotated.\n",
    "\n",
    "    Parameters\n",
    "    ----------\n",
    "    raster : gdal.Image\n",
    "        A gdal raster object\n",
    "    point : str, iterable or ogr.Geometry\n",
    "        One of:\n",
    "            A well-known text string of a single point\n",
    "            An iterable of the form (x,y)\n",
    "            An ogr.Geometry object containing a single point\n",
    "    Returns\n",
    "    -------\n",
    "    A tuple of (x_pixel, y_pixel), containing the indicies of the point in the raster.\n",
    "\n",
    "    Notes\n",
    "    -----\n",
    "    The equation is a rearrangement of the section on affinine geotransform in http://www.gdal.org/gdal_datamodel.html\n",
    "\n",
    "    \"\"\"\n",
    "    if isinstance(point, str):\n",
    "        point = ogr.CreateGeometryFromWkt(point)\n",
    "        x_geo = point.GetX()\n",
    "        y_geo = point.GetY()\n",
    "    if isinstance(point, list) or isinstance(point, tuple):  # There is a more pythonic way to do this\n",
    "        x_geo = point[0]\n",
    "        y_geo = point[1]\n",
    "    if isinstance(point, ogr.Geometry):\n",
    "        x_geo = point.GetX()\n",
    "        y_geo = point.GetY()\n",
    "    gt = raster.GetGeoTransform()\n",
    "    x_pixel = int(np.floor((x_geo - floor_to_resolution(gt[0], gt[1]))/gt[1]))\n",
    "    y_pixel = int(np.floor((y_geo - floor_to_resolution(gt[3], gt[5]*-1))/gt[5]))  # y resolution is -ve\n",
    "    return x_pixel, y_pixel\n"
   ]
  },
  {
   "cell_type": "code",
   "execution_count": 21,
   "id": "2d6e9a1a",
   "metadata": {},
   "outputs": [],
   "source": [
    "def floor_to_resolution(input, resolution):\n",
    "    \"\"\"\n",
    "    NOT MY OWN CODE BUT I DO NOT REMEMBER THE SOURCE\n",
    "    Returns input rounded DOWN to the nearest multiple of resolution. Used to prevent float errors on pixel boarders.\n",
    "\n",
    "    Parameters\n",
    "    ----------\n",
    "    input : number\n",
    "        The value to be rounded\n",
    "    resolution : number\n",
    "        The resolution\n",
    "\n",
    "    Returns\n",
    "    -------\n",
    "    output : number\n",
    "        The largest value between input and 0 that is wholly divisible by resolution.\n",
    "\n",
    "    Notes\n",
    "    -----\n",
    "    Uses the following formula: ``input-(input%resolution)``\n",
    "    If resolution is less than 1, then this assumes that the projection is in decmial degrees and will be rounded to 6dp\n",
    "    before flooring. However, it is not recommended to use this function in that situation.\n",
    "\n",
    "    \"\"\"\n",
    "    if resolution > 1:\n",
    "        return input - (input%resolution)\n",
    "    else:\n",
    "        log.warning(\"Low resolution detected, assuming in degrees. Rounding to 6 dp.\\\n",
    "                Probably safer to reproject to meters projection.\")\n",
    "        resolution = resolution * 1000000\n",
    "        input = input * 1000000\n",
    "        return (input-(input%resolution))/1000000\n"
   ]
  },
  {
   "cell_type": "code",
   "execution_count": 27,
   "id": "a3f0b993",
   "metadata": {
    "tags": []
   },
   "outputs": [],
   "source": [
    "def get_training_data(image_path, shape_path, attribute=\"CODE\", shape_projection_id=3067):\n",
    "    \"\"\"\n",
    "    NOT MY OWN CODE BUT I DO NOT REMEMBER THE SOURCE\n",
    "    \n",
    "    Given an image and a shapefile with categories, returns training data and features suitable\n",
    "    for fitting a scikit-learn classifier.\n",
    "\n",
    "    For full details of how to create an appropriate shapefile, see [here](../index.html#training_data).\n",
    "\n",
    "    Parameters\n",
    "    ----------\n",
    "    image_path : str\n",
    "        The path to the raster image to extract signatures from\n",
    "    shape_path : str\n",
    "        The path to the shapefile containing labelled class polygons\n",
    "    attribute : str, optional\n",
    "        The shapefile field containing the class labels. Defaults to \"CODE\".\n",
    "    shape_projection_id : int, optional\n",
    "        The EPSG number of the projection of the shapefile. Defaults to EPSG 4326.\n",
    "\n",
    "    Returns\n",
    "    -------\n",
    "    training_data : array_like\n",
    "        A numpy array of shape (n_pixels, bands), where n_pixels is the number of pixels covered by the training polygons\n",
    "    features : array_like\n",
    "        A 1-d numpy array of length (n_pixels) containing the class labels for the corresponding pixel in training_data\n",
    "\n",
    "    Notes\n",
    "    -----\n",
    "    For performance, this uses scikit's sparse.nonzero() function to get the location of each training data pixel.\n",
    "    This means that this will ignore any classes with a label of '0'.\n",
    "\n",
    "    \"\"\"\n",
    "    # TODO: WRITE A TEST FOR THIS TOO; if this goes wrong, it'll go wrong\n",
    "    # quietly and in a way that'll cause the most issues further on down the line\n",
    "    FILL_VALUE = -9999\n",
    "    with TemporaryDirectory() as td:\n",
    "        # Step 1; rasterise shapefile into .tif of class values\n",
    "        shape_projection = osr.SpatialReference()\n",
    "        shape_projection.ImportFromEPSG(shape_projection_id)\n",
    "        image = gdal.Open(image_path)\n",
    "        image_gt = image.GetGeoTransform()\n",
    "        x_res, y_res = image_gt[1], image_gt[5]\n",
    "        ras_path = os.path.join(td, \"poly_ras\")\n",
    "        ras_params = gdal.RasterizeOptions(\n",
    "            noData=0,\n",
    "            attribute=attribute,\n",
    "            xRes=x_res,\n",
    "            yRes=y_res,\n",
    "            outputType=gdal.GDT_Int16,\n",
    "            outputSRS=shape_projection,\n",
    "            #outputBounds=[353359,6705285,377620,6719394]\n",
    "            #outputBounds = [302280,6701800,330960,6718100]\n",
    "            outputBounds = [280430, 6668772, 400430, 6738772]\n",
    "        )\n",
    "        # This produces a rasterised geotiff that's right, but not perfectly aligned to pixels.\n",
    "        # This can probably be fixed.\n",
    "        gdal.Rasterize(ras_path, shape_path, options=ras_params)\n",
    "        rasterised_shapefile = gdal.Open(ras_path)\n",
    "        shape_array = rasterised_shapefile.GetVirtualMemArray()\n",
    "        local_x, local_y = get_local_top_left(image, rasterised_shapefile)\n",
    "        shape_sparse = sp.coo_matrix(np.asarray(shape_array).squeeze())\n",
    "        y, x, features = sp.find(shape_sparse)\n",
    "        training_data = np.empty((len(features), image.RasterCount))\n",
    "        image_array = image.GetVirtualMemArray()\n",
    "        image_view = image_array[:,\n",
    "                    local_y: local_y + rasterised_shapefile.RasterYSize,\n",
    "                    local_x: local_x + rasterised_shapefile.RasterXSize\n",
    "                    ]\n",
    "        for index in range(len(features)):\n",
    "            training_data[index, :] = image_view[:, y[index], x[index]]\n",
    "        image_view = None\n",
    "        image_array = None\n",
    "        shape_array = None\n",
    "        rasterised_shapefile = None\n",
    "        return training_data, features\n"
   ]
  },
  {
   "cell_type": "code",
   "execution_count": 28,
   "id": "3d892d33",
   "metadata": {},
   "outputs": [],
   "source": [
    "training_data, features = get_training_data(image_path, shape_path, attribute=\"CODE\", shape_projection_id=3067)"
   ]
  },
  {
   "cell_type": "code",
   "execution_count": 29,
   "id": "0d6ff628",
   "metadata": {},
   "outputs": [
    {
     "data": {
      "text/plain": [
       "37831"
      ]
     },
     "execution_count": 29,
     "metadata": {},
     "output_type": "execute_result"
    }
   ],
   "source": [
    "len(features)"
   ]
  },
  {
   "cell_type": "code",
   "execution_count": 30,
   "id": "01e428ae",
   "metadata": {},
   "outputs": [],
   "source": [
    "sigs = np.vstack((features, training_data.T))"
   ]
  },
  {
   "cell_type": "code",
   "execution_count": 31,
   "id": "b1b9b26c",
   "metadata": {},
   "outputs": [
    {
     "data": {
      "text/plain": [
       "(3, 37831)"
      ]
     },
     "execution_count": 31,
     "metadata": {},
     "output_type": "execute_result"
    }
   ],
   "source": [
    "sigs.shape"
   ]
  },
  {
   "cell_type": "code",
   "execution_count": 32,
   "id": "6a96409c",
   "metadata": {},
   "outputs": [],
   "source": [
    "with open(csv_path, 'w', newline='') as outfile:\n",
    "        writer = csv.writer(outfile)\n",
    "        writer.writerows(sigs.T)"
   ]
  },
  {
   "cell_type": "code",
   "execution_count": null,
   "id": "a9abf469-a027-4cf1-a16a-d539f87855ea",
   "metadata": {},
   "outputs": [],
   "source": []
  }
 ],
 "metadata": {
  "kernelspec": {
   "display_name": "Python 3 (ipykernel)",
   "language": "python",
   "name": "python3"
  },
  "language_info": {
   "codemirror_mode": {
    "name": "ipython",
    "version": 3
   },
   "file_extension": ".py",
   "mimetype": "text/x-python",
   "name": "python",
   "nbconvert_exporter": "python",
   "pygments_lexer": "ipython3",
   "version": "3.10.6"
  }
 },
 "nbformat": 4,
 "nbformat_minor": 5
}
