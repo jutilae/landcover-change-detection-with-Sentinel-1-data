{
 "cells": [
  {
   "cell_type": "code",
   "execution_count": 1,
   "id": "e9c8fcc0",
   "metadata": {},
   "outputs": [
    {
     "name": "stdout",
     "output_type": "stream",
     "text": [
      "Requirement already satisfied: numpy in /usr/local/lib64/python3.9/site-packages (1.23.5)\n",
      "Requirement already satisfied: scipy in /usr/local/lib64/python3.9/site-packages (1.9.3)\n",
      "Requirement already satisfied: scikit-learn in /usr/local/lib64/python3.9/site-packages (1.1.3)\n",
      "Requirement already satisfied: pandas in /usr/local/lib64/python3.9/site-packages (1.5.2)\n",
      "Requirement already satisfied: joblib in /usr/local/lib/python3.9/site-packages (1.2.0)\n",
      "Requirement already satisfied: threadpoolctl>=2.0.0 in /usr/local/lib/python3.9/site-packages (from scikit-learn) (3.1.0)\n",
      "Requirement already satisfied: pytz>=2020.1 in /usr/local/lib/python3.9/site-packages (from pandas) (2022.6)\n",
      "Requirement already satisfied: python-dateutil>=2.8.1 in /usr/local/lib/python3.9/site-packages (from pandas) (2.8.2)\n",
      "Requirement already satisfied: six>=1.5 in /usr/local/lib/python3.9/site-packages (from python-dateutil>=2.8.1->pandas) (1.16.0)\n"
     ]
    }
   ],
   "source": [
    "!pip install numpy scipy scikit-learn pandas joblib --user"
   ]
  },
  {
   "cell_type": "code",
   "execution_count": 2,
   "id": "26fa598b",
   "metadata": {},
   "outputs": [
    {
     "name": "stdout",
     "output_type": "stream",
     "text": [
      "Requirement already satisfied: deap in /projappl/project_2004990/lib/python3.9/site-packages (1.3.3)\n",
      "Requirement already satisfied: update_checker in /projappl/project_2004990/lib/python3.9/site-packages (0.18.0)\n",
      "Requirement already satisfied: tqdm in /usr/local/lib/python3.9/site-packages (4.64.1)\n",
      "Requirement already satisfied: stopit in /projappl/project_2004990/lib/python3.9/site-packages (1.1.2)\n",
      "Requirement already satisfied: xgboost in /usr/local/lib64/python3.9/site-packages (1.7.1)\n",
      "Requirement already satisfied: numpy in /usr/local/lib64/python3.9/site-packages (from deap) (1.23.5)\n",
      "Requirement already satisfied: requests>=2.3.0 in /usr/local/lib/python3.9/site-packages (from update_checker) (2.28.1)\n",
      "Requirement already satisfied: scipy in /usr/local/lib64/python3.9/site-packages (from xgboost) (1.9.3)\n",
      "Requirement already satisfied: urllib3<1.27,>=1.21.1 in /usr/local/lib/python3.9/site-packages (from requests>=2.3.0->update_checker) (1.26.13)\n",
      "Requirement already satisfied: idna<4,>=2.5 in /usr/local/lib/python3.9/site-packages (from requests>=2.3.0->update_checker) (3.4)\n",
      "Requirement already satisfied: certifi>=2017.4.17 in /usr/local/lib/python3.9/site-packages (from requests>=2.3.0->update_checker) (2022.9.24)\n",
      "Requirement already satisfied: charset-normalizer<3,>=2 in /usr/local/lib/python3.9/site-packages (from requests>=2.3.0->update_checker) (2.1.1)\n"
     ]
    }
   ],
   "source": [
    "!pip install deap update_checker tqdm stopit xgboost --user\n"
   ]
  },
  {
   "cell_type": "code",
   "execution_count": 3,
   "id": "8e300115",
   "metadata": {},
   "outputs": [],
   "source": [
    "!pip install dask[delayed] dask[dataframe] dask-ml fsspec>=0.3.3 distributed>=2.10.0 --user\n"
   ]
  },
  {
   "cell_type": "code",
   "execution_count": 4,
   "id": "d6e541a5",
   "metadata": {},
   "outputs": [
    {
     "name": "stdout",
     "output_type": "stream",
     "text": [
      "Requirement already satisfied: tpot in /projappl/project_2004990/lib/python3.9/site-packages (0.11.7)\n",
      "Requirement already satisfied: scikit-learn>=0.22.0 in /usr/local/lib64/python3.9/site-packages (from tpot) (1.1.3)\n",
      "Requirement already satisfied: pandas>=0.24.2 in /usr/local/lib64/python3.9/site-packages (from tpot) (1.5.2)\n",
      "Requirement already satisfied: scipy>=1.3.1 in /usr/local/lib64/python3.9/site-packages (from tpot) (1.9.3)\n",
      "Requirement already satisfied: joblib>=0.13.2 in /usr/local/lib/python3.9/site-packages (from tpot) (1.2.0)\n",
      "Requirement already satisfied: update-checker>=0.16 in /projappl/project_2004990/lib/python3.9/site-packages (from tpot) (0.18.0)\n",
      "Requirement already satisfied: stopit>=1.1.1 in /projappl/project_2004990/lib/python3.9/site-packages (from tpot) (1.1.2)\n",
      "Requirement already satisfied: tqdm>=4.36.1 in /usr/local/lib/python3.9/site-packages (from tpot) (4.64.1)\n",
      "Requirement already satisfied: xgboost>=1.1.0 in /usr/local/lib64/python3.9/site-packages (from tpot) (1.7.1)\n",
      "Requirement already satisfied: numpy>=1.16.3 in /usr/local/lib64/python3.9/site-packages (from tpot) (1.23.5)\n",
      "Requirement already satisfied: deap>=1.2 in /projappl/project_2004990/lib/python3.9/site-packages (from tpot) (1.3.3)\n",
      "Requirement already satisfied: threadpoolctl>=2.0.0 in /usr/local/lib/python3.9/site-packages (from scikit-learn>=0.22.0->tpot) (3.1.0)\n",
      "Requirement already satisfied: pytz>=2020.1 in /usr/local/lib/python3.9/site-packages (from pandas>=0.24.2->tpot) (2022.6)\n",
      "Requirement already satisfied: python-dateutil>=2.8.1 in /usr/local/lib/python3.9/site-packages (from pandas>=0.24.2->tpot) (2.8.2)\n",
      "Requirement already satisfied: requests>=2.3.0 in /usr/local/lib/python3.9/site-packages (from update-checker>=0.16->tpot) (2.28.1)\n",
      "Requirement already satisfied: six>=1.5 in /usr/local/lib/python3.9/site-packages (from python-dateutil>=2.8.1->pandas>=0.24.2->tpot) (1.16.0)\n",
      "Requirement already satisfied: certifi>=2017.4.17 in /usr/local/lib/python3.9/site-packages (from requests>=2.3.0->update-checker>=0.16->tpot) (2022.9.24)\n",
      "Requirement already satisfied: idna<4,>=2.5 in /usr/local/lib/python3.9/site-packages (from requests>=2.3.0->update-checker>=0.16->tpot) (3.4)\n",
      "Requirement already satisfied: urllib3<1.27,>=1.21.1 in /usr/local/lib/python3.9/site-packages (from requests>=2.3.0->update-checker>=0.16->tpot) (1.26.13)\n",
      "Requirement already satisfied: charset-normalizer<3,>=2 in /usr/local/lib/python3.9/site-packages (from requests>=2.3.0->update-checker>=0.16->tpot) (2.1.1)\n"
     ]
    }
   ],
   "source": [
    "!pip install tpot --user"
   ]
  },
  {
   "cell_type": "code",
   "execution_count": 1,
   "id": "8b60dea8",
   "metadata": {},
   "outputs": [],
   "source": [
    "import csv\n",
    "import glob\n",
    "import logging\n",
    "import os\n",
    "from tempfile import TemporaryDirectory\n",
    "\n",
    "#from osgeo import gdal\n",
    "import joblib\n",
    "import numpy as np\n",
    "#from osgeo import osr\n",
    "from scipy import sparse as sp\n",
    "from sklearn import ensemble as ens\n",
    "#from sklearn.externals import joblib as sklearn_joblib\n",
    "from sklearn.model_selection import cross_val_score\n",
    "#from osgeo import osr, ogr\n",
    "\n",
    "import os, time\n",
    "from imblearn.under_sampling import RandomUnderSampler\n",
    "import numpy as np\n",
    "import rasterio\n",
    "from sklearn.metrics import classification_report, confusion_matrix\n",
    "from sklearn.model_selection import train_test_split\n",
    "\n",
    "import os, time\n",
    "from imblearn.under_sampling import RandomUnderSampler\n",
    "from joblib import dump, load\n",
    "import numpy as np\n",
    "import rasterio\n",
    "from rasterio.merge import merge\n",
    "from sklearn.ensemble import RandomForestClassifier, GradientBoostingClassifier\n",
    "from sklearn.linear_model import SGDClassifier\n",
    "from sklearn.metrics import classification_report, confusion_matrix\n",
    "from sklearn.model_selection import GridSearchCV\n",
    "from sklearn.model_selection import StratifiedShuffleSplit\n",
    "from sklearn.model_selection import train_test_split\n",
    "from sklearn.svm import SVC\n",
    "\n",
    "from tpot import TPOTClassifier\n",
    "from sklearn.datasets import load_digits\n",
    "from sklearn.model_selection import train_test_split\n",
    "from sklearn.neighbors import KNeighborsClassifier\n",
    "from sklearn.pipeline import make_pipeline\n",
    "from sklearn.preprocessing import MinMaxScaler\n",
    "from tpot.export_utils import set_param_recursive"
   ]
  },
  {
   "cell_type": "code",
   "execution_count": 2,
   "id": "54a949df",
   "metadata": {},
   "outputs": [],
   "source": [
    "base_folder = '/scratch/project_2004990/jutilaee/mtk_kehitys/uusimaa'\n",
    "csv_path = os.path.join(base_folder,'uusimaa_signatures_and_features_max_VH.csv')\n",
    "model_path = os.path.join(base_folder,'uusimaa_model.pkl')"
   ]
  },
  {
   "cell_type": "code",
   "execution_count": 3,
   "id": "a0724779",
   "metadata": {},
   "outputs": [],
   "source": [
    "def load_signatures(sig_csv_path, sig_datatype=np.int32):\n",
    "    \"\"\"\n",
    "    Extracts features and class labels from a signature CSV\n",
    "    Parameters\n",
    "    ----------\n",
    "    sig_csv_path : str\n",
    "        The path to the csv\n",
    "    sig_datatype : dtype, optional\n",
    "        The type of pixel data in the signature CSV. Defaults to np.int32\n",
    "\n",
    "    Returns\n",
    "    -------\n",
    "    features : array_like\n",
    "        a numpy array of the shape (feature_count, sample_count)\n",
    "    class_labels : array_like of int\n",
    "        a 1d numpy array of class labels corresponding to the samples in features.\n",
    "\n",
    "    \"\"\"\n",
    "    data = np.genfromtxt(sig_csv_path, delimiter=\",\", dtype=sig_datatype).T\n",
    "    return (data[1:, :].T, data[0, :])\n"
   ]
  },
  {
   "cell_type": "code",
   "execution_count": 4,
   "id": "a1931361",
   "metadata": {},
   "outputs": [],
   "source": [
    "features, labels = load_signatures(csv_path,np.float64)"
   ]
  },
  {
   "cell_type": "code",
   "execution_count": 5,
   "id": "3d22310c",
   "metadata": {},
   "outputs": [],
   "source": [
    "# Predict on whole image and save it as .tif file\n",
    "def predictImage(clf,modelName, predictImage):\n",
    "    #Set file paths for input and output files\n",
    "    predictedClassesFile = outputImageBase + modelName + '.tif'\n",
    "    predictedClassesPath = os.path.join(results_folder, predictedClassesFile)\n",
    "    \n",
    "    # Read the satellite image\n",
    "    with rasterio.open(predictImage, 'r') as image_dataset:\n",
    "        start_time = time.time()    \n",
    "        \n",
    "        #Reshape data to 1D as we did before model training\n",
    "        #image_data = image_dataset.read()\n",
    "        image_data = image_dataset.read()\n",
    "        image_data2 = np.transpose(image_data, (1, 2, 0))\n",
    "        pixels = image_data2.reshape(-1, 27)\n",
    "        \n",
    "        #Load the model from the saved file\n",
    "        #modelFilePath = os.path.join(base_folder, ('model_' + modelName + '.sav'))\n",
    "        #trained_model = load(modelFilePath)\n",
    "        \n",
    "        # predict the class for each pixel\n",
    "        prediction = clf.predict(pixels)\n",
    "        \n",
    "        # Reshape back to 2D\n",
    "        print('Prediction shape in 1D: ', prediction.shape)\n",
    "        prediction2D = np.reshape(prediction, (image_dataset.meta['height'], image_dataset.meta['width']))\n",
    "        #prediction2D = np.reshape(prediction, ( 705, 1213))\n",
    "        print('Prediction shape in 2D: ', prediction2D.shape)\n",
    "        \n",
    "        # Save the results as .tif file.\n",
    "        # Copy the coorindate system information, image size and other metadata from the satellite image \n",
    "        outputMeta = image_dataset.meta\n",
    "        # Change the number of bands and data type.\n",
    "        #outputMeta.update(count=1, dtype='uint8')\n",
    "        outputMeta.update(count=1, dtype='uint8', height=image_dataset.meta['height'], width=image_dataset.meta['width'])\n",
    "        # Writing the image on the disk\n",
    "        with rasterio.open(predictedClassesPath, 'w', **outputMeta) as dst:\n",
    "            dst.write(prediction2D, 1)\n",
    "        print('Predicting took: ', round((time.time() - start_time), 1), ' seconds')\n",
    " "
   ]
  },
  {
   "cell_type": "code",
   "execution_count": 6,
   "id": "a858d44b",
   "metadata": {},
   "outputs": [],
   "source": [
    "#Set working directory and input/output file names.\n",
    "\n",
    "data_folder = \"/scratch/project_2004990/jutilaee/mtk_kehitys/uusimaa\"\n",
    "\n",
    "results_folder = \"/scratch/project_2004990/jutilaee/mtk_kehitys/uusimaa/raster_classification_results_2\"\n",
    "\n",
    "base_folder = \"/scratch/project_2004990/jutilaee/mtk_kehitys/uusimaa\"\n",
    "outputImageBase = 'forest_loss_tpot'\n",
    "\n",
    "# Input\n",
    "inputImage = '/scratch/project_2004990/jutilaee/mtk_kehitys/uusimaa/training_data/UM_max_VH_training.tif'\n"
   ]
  },
  {
   "cell_type": "code",
   "execution_count": 7,
   "id": "23d35a72",
   "metadata": {},
   "outputs": [],
   "source": [
    "x_train, x_test, y_train, y_test = train_test_split(features, labels, test_size=0.2, random_state=63)\n"
   ]
  },
  {
   "cell_type": "code",
   "execution_count": 12,
   "id": "2bf24e63-5bef-49b9-83c9-ef5f1257baeb",
   "metadata": {},
   "outputs": [],
   "source": [
    "pipeline_optimizer = TPOTClassifier(generations=10, population_size=50, cv=8,\n",
    "                                    random_state=42, verbosity=2,  n_jobs=-1)"
   ]
  },
  {
   "cell_type": "code",
   "execution_count": 13,
   "id": "54fec609-7d02-45ab-8261-4385a780d2b2",
   "metadata": {},
   "outputs": [
    {
     "data": {
      "application/vnd.jupyter.widget-view+json": {
       "model_id": "",
       "version_major": 2,
       "version_minor": 0
      },
      "text/plain": [
       "Optimization Progress:   0%|          | 0/550 [00:00<?, ?pipeline/s]"
      ]
     },
     "metadata": {},
     "output_type": "display_data"
    },
    {
     "name": "stdout",
     "output_type": "stream",
     "text": [
      "\n",
      "Generation 1 - Current best internal CV score: 0.8655781434058898\n",
      "\n",
      "Generation 2 - Current best internal CV score: 0.8655781434058898\n",
      "\n",
      "Generation 3 - Current best internal CV score: 0.8655781434058898\n",
      "\n",
      "Generation 4 - Current best internal CV score: 0.8655781434058898\n",
      "\n",
      "Generation 5 - Current best internal CV score: 0.8681385915492957\n",
      "\n",
      "Generation 6 - Current best internal CV score: 0.8681385915492957\n",
      "\n",
      "Generation 7 - Current best internal CV score: 0.8681385915492957\n",
      "\n",
      "Generation 8 - Current best internal CV score: 0.8681385915492957\n",
      "\n",
      "Generation 9 - Current best internal CV score: 0.8681385915492957\n",
      "\n",
      "Generation 10 - Current best internal CV score: 0.8681385915492957\n",
      "\n",
      "Best pipeline: KNeighborsClassifier(MinMaxScaler(input_matrix), n_neighbors=3, p=1, weights=distance)\n"
     ]
    },
    {
     "name": "stderr",
     "output_type": "stream",
     "text": [
      "/usr/local/lib64/python3.9/site-packages/sklearn/metrics/_scorer.py:765: FutureWarning: sklearn.metrics.SCORERS is deprecated and will be removed in v1.3. Please use sklearn.metrics.get_scorer_names to get a list of available scorers and sklearn.metrics.get_metric to get scorer.\n",
      "  warnings.warn(\n"
     ]
    },
    {
     "name": "stdout",
     "output_type": "stream",
     "text": [
      "0.8738998239718355\n"
     ]
    }
   ],
   "source": [
    "pipeline_optimizer.fit(x_train, y_train)\n",
    "\n",
    "print(pipeline_optimizer.score(x_test, y_test))\n",
    "pipeline_optimizer.export('tpot_exported_pipeline.py')"
   ]
  },
  {
   "cell_type": "code",
   "execution_count": 8,
   "id": "b619092a-6006-4042-b3c7-604d49789c3f",
   "metadata": {},
   "outputs": [],
   "source": [
    "# Average CV score on the training set was: 0.8681385915492957\n",
    "exported_pipeline = make_pipeline(\n",
    "    MinMaxScaler(),\n",
    "    KNeighborsClassifier(n_neighbors=3, p=1, weights=\"distance\")\n",
    ")\n",
    "# Fix random state for all the steps in exported pipeline\n",
    "set_param_recursive(exported_pipeline.steps, 'random_state', 42)"
   ]
  },
  {
   "cell_type": "code",
   "execution_count": 9,
   "id": "f4ceb78e-84f2-4dc3-9ff7-21412f82e0f7",
   "metadata": {},
   "outputs": [
    {
     "data": {
      "text/html": [
       "<style>#sk-container-id-1 {color: black;background-color: white;}#sk-container-id-1 pre{padding: 0;}#sk-container-id-1 div.sk-toggleable {background-color: white;}#sk-container-id-1 label.sk-toggleable__label {cursor: pointer;display: block;width: 100%;margin-bottom: 0;padding: 0.3em;box-sizing: border-box;text-align: center;}#sk-container-id-1 label.sk-toggleable__label-arrow:before {content: \"▸\";float: left;margin-right: 0.25em;color: #696969;}#sk-container-id-1 label.sk-toggleable__label-arrow:hover:before {color: black;}#sk-container-id-1 div.sk-estimator:hover label.sk-toggleable__label-arrow:before {color: black;}#sk-container-id-1 div.sk-toggleable__content {max-height: 0;max-width: 0;overflow: hidden;text-align: left;background-color: #f0f8ff;}#sk-container-id-1 div.sk-toggleable__content pre {margin: 0.2em;color: black;border-radius: 0.25em;background-color: #f0f8ff;}#sk-container-id-1 input.sk-toggleable__control:checked~div.sk-toggleable__content {max-height: 200px;max-width: 100%;overflow: auto;}#sk-container-id-1 input.sk-toggleable__control:checked~label.sk-toggleable__label-arrow:before {content: \"▾\";}#sk-container-id-1 div.sk-estimator input.sk-toggleable__control:checked~label.sk-toggleable__label {background-color: #d4ebff;}#sk-container-id-1 div.sk-label input.sk-toggleable__control:checked~label.sk-toggleable__label {background-color: #d4ebff;}#sk-container-id-1 input.sk-hidden--visually {border: 0;clip: rect(1px 1px 1px 1px);clip: rect(1px, 1px, 1px, 1px);height: 1px;margin: -1px;overflow: hidden;padding: 0;position: absolute;width: 1px;}#sk-container-id-1 div.sk-estimator {font-family: monospace;background-color: #f0f8ff;border: 1px dotted black;border-radius: 0.25em;box-sizing: border-box;margin-bottom: 0.5em;}#sk-container-id-1 div.sk-estimator:hover {background-color: #d4ebff;}#sk-container-id-1 div.sk-parallel-item::after {content: \"\";width: 100%;border-bottom: 1px solid gray;flex-grow: 1;}#sk-container-id-1 div.sk-label:hover label.sk-toggleable__label {background-color: #d4ebff;}#sk-container-id-1 div.sk-serial::before {content: \"\";position: absolute;border-left: 1px solid gray;box-sizing: border-box;top: 0;bottom: 0;left: 50%;z-index: 0;}#sk-container-id-1 div.sk-serial {display: flex;flex-direction: column;align-items: center;background-color: white;padding-right: 0.2em;padding-left: 0.2em;position: relative;}#sk-container-id-1 div.sk-item {position: relative;z-index: 1;}#sk-container-id-1 div.sk-parallel {display: flex;align-items: stretch;justify-content: center;background-color: white;position: relative;}#sk-container-id-1 div.sk-item::before, #sk-container-id-1 div.sk-parallel-item::before {content: \"\";position: absolute;border-left: 1px solid gray;box-sizing: border-box;top: 0;bottom: 0;left: 50%;z-index: -1;}#sk-container-id-1 div.sk-parallel-item {display: flex;flex-direction: column;z-index: 1;position: relative;background-color: white;}#sk-container-id-1 div.sk-parallel-item:first-child::after {align-self: flex-end;width: 50%;}#sk-container-id-1 div.sk-parallel-item:last-child::after {align-self: flex-start;width: 50%;}#sk-container-id-1 div.sk-parallel-item:only-child::after {width: 0;}#sk-container-id-1 div.sk-dashed-wrapped {border: 1px dashed gray;margin: 0 0.4em 0.5em 0.4em;box-sizing: border-box;padding-bottom: 0.4em;background-color: white;}#sk-container-id-1 div.sk-label label {font-family: monospace;font-weight: bold;display: inline-block;line-height: 1.2em;}#sk-container-id-1 div.sk-label-container {text-align: center;}#sk-container-id-1 div.sk-container {/* jupyter's `normalize.less` sets `[hidden] { display: none; }` but bootstrap.min.css set `[hidden] { display: none !important; }` so we also need the `!important` here to be able to override the default hidden behavior on the sphinx rendered scikit-learn.org. See: https://github.com/scikit-learn/scikit-learn/issues/21755 */display: inline-block !important;position: relative;}#sk-container-id-1 div.sk-text-repr-fallback {display: none;}</style><div id=\"sk-container-id-1\" class=\"sk-top-container\"><div class=\"sk-text-repr-fallback\"><pre>Pipeline(steps=[(&#x27;minmaxscaler&#x27;, MinMaxScaler()),\n",
       "                (&#x27;kneighborsclassifier&#x27;,\n",
       "                 KNeighborsClassifier(n_neighbors=3, p=1, weights=&#x27;distance&#x27;))])</pre><b>In a Jupyter environment, please rerun this cell to show the HTML representation or trust the notebook. <br />On GitHub, the HTML representation is unable to render, please try loading this page with nbviewer.org.</b></div><div class=\"sk-container\" hidden><div class=\"sk-item sk-dashed-wrapped\"><div class=\"sk-label-container\"><div class=\"sk-label sk-toggleable\"><input class=\"sk-toggleable__control sk-hidden--visually\" id=\"sk-estimator-id-1\" type=\"checkbox\" ><label for=\"sk-estimator-id-1\" class=\"sk-toggleable__label sk-toggleable__label-arrow\">Pipeline</label><div class=\"sk-toggleable__content\"><pre>Pipeline(steps=[(&#x27;minmaxscaler&#x27;, MinMaxScaler()),\n",
       "                (&#x27;kneighborsclassifier&#x27;,\n",
       "                 KNeighborsClassifier(n_neighbors=3, p=1, weights=&#x27;distance&#x27;))])</pre></div></div></div><div class=\"sk-serial\"><div class=\"sk-item\"><div class=\"sk-estimator sk-toggleable\"><input class=\"sk-toggleable__control sk-hidden--visually\" id=\"sk-estimator-id-2\" type=\"checkbox\" ><label for=\"sk-estimator-id-2\" class=\"sk-toggleable__label sk-toggleable__label-arrow\">MinMaxScaler</label><div class=\"sk-toggleable__content\"><pre>MinMaxScaler()</pre></div></div></div><div class=\"sk-item\"><div class=\"sk-estimator sk-toggleable\"><input class=\"sk-toggleable__control sk-hidden--visually\" id=\"sk-estimator-id-3\" type=\"checkbox\" ><label for=\"sk-estimator-id-3\" class=\"sk-toggleable__label sk-toggleable__label-arrow\">KNeighborsClassifier</label><div class=\"sk-toggleable__content\"><pre>KNeighborsClassifier(n_neighbors=3, p=1, weights=&#x27;distance&#x27;)</pre></div></div></div></div></div></div></div>"
      ],
      "text/plain": [
       "Pipeline(steps=[('minmaxscaler', MinMaxScaler()),\n",
       "                ('kneighborsclassifier',\n",
       "                 KNeighborsClassifier(n_neighbors=3, p=1, weights='distance'))])"
      ]
     },
     "execution_count": 9,
     "metadata": {},
     "output_type": "execute_result"
    }
   ],
   "source": [
    "exported_pipeline.fit(x_train, y_train)"
   ]
  },
  {
   "cell_type": "code",
   "execution_count": 10,
   "id": "f9abd1a6-b0e4-4e69-a0b0-14cbf39b6778",
   "metadata": {},
   "outputs": [],
   "source": [
    "results = exported_pipeline.predict(x_test)"
   ]
  },
  {
   "cell_type": "code",
   "execution_count": 11,
   "id": "c9025494-362b-42df-9b6c-c812395bb81c",
   "metadata": {},
   "outputs": [
    {
     "name": "stdout",
     "output_type": "stream",
     "text": [
      "Confusion matrix: \n",
      " [[1505  465   22]\n",
      " [ 183 1699   22]\n",
      " [  39   57 2257]]\n",
      "Classification report: \n",
      "               precision    recall  f1-score   support\n",
      "\n",
      "         1.0       0.87      0.76      0.81      1992\n",
      "         2.0       0.76      0.89      0.82      1904\n",
      "         3.0       0.98      0.96      0.97      2353\n",
      "\n",
      "    accuracy                           0.87      6249\n",
      "   macro avg       0.87      0.87      0.87      6249\n",
      "weighted avg       0.88      0.87      0.87      6249\n",
      "\n"
     ]
    }
   ],
   "source": [
    "print('Confusion matrix: \\n', confusion_matrix(y_test, results))\n",
    "print('Classification report: \\n', classification_report(y_test, results))"
   ]
  },
  {
   "cell_type": "code",
   "execution_count": 14,
   "id": "5a05793e-045d-4af2-b535-d251886ab1a3",
   "metadata": {},
   "outputs": [
    {
     "data": {
      "text/plain": [
       "<AxesSubplot: >"
      ]
     },
     "execution_count": 14,
     "metadata": {},
     "output_type": "execute_result"
    },
    {
     "data": {
      "image/png": "[encoded data removed]",
      "text/plain": [
       "<Figure size 640x480 with 2 Axes>"
      ]
     },
     "metadata": {},
     "output_type": "display_data"
    }
   ],
   "source": [
    "from sklearn.metrics import confusion_matrix\n",
    "cm = confusion_matrix(y_test, results)\n",
    "\n",
    "import seaborn as sns\n",
    "\n",
    "sns.heatmap(cm, annot=True)"
   ]
  },
  {
   "cell_type": "code",
   "execution_count": 17,
   "id": "091a79fb-1da7-4f24-99de-caaa36f9e4c8",
   "metadata": {},
   "outputs": [
    {
     "name": "stdout",
     "output_type": "stream",
     "text": [
      "Prediction shape in 1D:  (1168710,)\n",
      "Prediction shape in 2D:  (815, 1434)\n",
      "Predicting took:  648.2  seconds\n"
     ]
    }
   ],
   "source": [
    "predictImage(exported_pipeline,'_training',inputImage)"
   ]
  },
  {
   "cell_type": "code",
   "execution_count": null,
   "id": "e8c02cfc-6aaf-4b7d-8c8e-b775179ee183",
   "metadata": {},
   "outputs": [],
   "source": [
    "inputImage = '/scratch/project_2004990/jutilaee/mtk_kehitys/uusimaa/UM_max_VH.tif'\n",
    "predictImage(exported_pipeline,'_whole_uusimaa',inputImage)"
   ]
  },
  {
   "cell_type": "code",
   "execution_count": null,
   "id": "884e4d74-b56d-4b94-9e80-8d22d9321683",
   "metadata": {},
   "outputs": [],
   "source": []
  }
 ],
 "metadata": {
  "kernelspec": {
   "display_name": "Python 3 (ipykernel)",
   "language": "python",
   "name": "python3"
  },
  "language_info": {
   "codemirror_mode": {
    "name": "ipython",
    "version": 3
   },
   "file_extension": ".py",
   "mimetype": "text/x-python",
   "name": "python",
   "nbconvert_exporter": "python",
   "pygments_lexer": "ipython3",
   "version": "3.10.6"
  }
 },
 "nbformat": 4,
 "nbformat_minor": 5
}
